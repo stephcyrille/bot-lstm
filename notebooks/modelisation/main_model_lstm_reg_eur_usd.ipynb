{
 "cells": [
  {
   "cell_type": "code",
   "execution_count": 4,
   "metadata": {},
   "outputs": [],
   "source": [
    "import sys\n",
    "sys.path.append('../../')\n",
    "\n",
    "import matplotlib.pyplot as plt\n",
    "import numpy as np\n",
    "import pandas as pd\n",
    "\n",
    "from copy import deepcopy as dc\n",
    "\n",
    "from sklearn.metrics import mean_squared_error, mean_absolute_error, r2_score\n",
    "\n",
    "import keras\n",
    "from keras.models import Sequential\n",
    "from keras.layers import LSTM, Dense, Input\n",
    "from keras.optimizers import Adam\n",
    "\n",
    "from sklearn.preprocessing import MinMaxScaler\n",
    "\n",
    "from utils.indicator_ops import calculate_bollinger_bands, calculate_ema, calculate_macd, calculate_rsi\n",
    "from utils.field_processing import create_ts_from_df, create_extra_featurres, create_sequences, create_indicators_features, processing_before_prediction\n",
    "\n",
    "from utils.dataset import TreadingDataset"
   ]
  },
  {
   "cell_type": "code",
   "execution_count": 5,
   "metadata": {},
   "outputs": [],
   "source": [
    "SEQUENCE_LENGTH = 9\n",
    "SHIFT_SIZE = 3\n",
    "BATCH_SIZE = 32"
   ]
  },
  {
   "cell_type": "markdown",
   "metadata": {},
   "source": [
    "# Loading the Dataframe"
   ]
  },
  {
   "cell_type": "code",
   "execution_count": 11,
   "metadata": {},
   "outputs": [
    {
     "data": {
      "text/html": [
       "<div>\n",
       "<style scoped>\n",
       "    .dataframe tbody tr th:only-of-type {\n",
       "        vertical-align: middle;\n",
       "    }\n",
       "\n",
       "    .dataframe tbody tr th {\n",
       "        vertical-align: top;\n",
       "    }\n",
       "\n",
       "    .dataframe thead th {\n",
       "        text-align: right;\n",
       "    }\n",
       "</style>\n",
       "<table border=\"1\" class=\"dataframe\">\n",
       "  <thead>\n",
       "    <tr style=\"text-align: right;\">\n",
       "      <th></th>\n",
       "      <th>&lt;DATE&gt;</th>\n",
       "      <th>&lt;TIME&gt;</th>\n",
       "      <th>&lt;OPEN&gt;</th>\n",
       "      <th>&lt;HIGH&gt;</th>\n",
       "      <th>&lt;LOW&gt;</th>\n",
       "      <th>&lt;CLOSE&gt;</th>\n",
       "      <th>&lt;TICKVOL&gt;</th>\n",
       "      <th>&lt;VOL&gt;</th>\n",
       "      <th>&lt;SPREAD&gt;</th>\n",
       "    </tr>\n",
       "  </thead>\n",
       "  <tbody>\n",
       "    <tr>\n",
       "      <th>6256</th>\n",
       "      <td>2025.03.05</td>\n",
       "      <td>08:00:00</td>\n",
       "      <td>1.06312</td>\n",
       "      <td>1.06390</td>\n",
       "      <td>1.06241</td>\n",
       "      <td>1.06321</td>\n",
       "      <td>2728</td>\n",
       "      <td>0</td>\n",
       "      <td>2</td>\n",
       "    </tr>\n",
       "    <tr>\n",
       "      <th>6257</th>\n",
       "      <td>2025.03.05</td>\n",
       "      <td>09:00:00</td>\n",
       "      <td>1.06325</td>\n",
       "      <td>1.06766</td>\n",
       "      <td>1.06295</td>\n",
       "      <td>1.06739</td>\n",
       "      <td>5718</td>\n",
       "      <td>0</td>\n",
       "      <td>1</td>\n",
       "    </tr>\n",
       "    <tr>\n",
       "      <th>6258</th>\n",
       "      <td>2025.03.05</td>\n",
       "      <td>10:00:00</td>\n",
       "      <td>1.06736</td>\n",
       "      <td>1.06998</td>\n",
       "      <td>1.06585</td>\n",
       "      <td>1.06982</td>\n",
       "      <td>6590</td>\n",
       "      <td>0</td>\n",
       "      <td>1</td>\n",
       "    </tr>\n",
       "    <tr>\n",
       "      <th>6259</th>\n",
       "      <td>2025.03.05</td>\n",
       "      <td>11:00:00</td>\n",
       "      <td>1.06977</td>\n",
       "      <td>1.07222</td>\n",
       "      <td>1.06955</td>\n",
       "      <td>1.07115</td>\n",
       "      <td>5860</td>\n",
       "      <td>0</td>\n",
       "      <td>1</td>\n",
       "    </tr>\n",
       "    <tr>\n",
       "      <th>6260</th>\n",
       "      <td>2025.03.05</td>\n",
       "      <td>12:00:00</td>\n",
       "      <td>1.07116</td>\n",
       "      <td>1.07150</td>\n",
       "      <td>1.06834</td>\n",
       "      <td>1.06915</td>\n",
       "      <td>3870</td>\n",
       "      <td>0</td>\n",
       "      <td>1</td>\n",
       "    </tr>\n",
       "  </tbody>\n",
       "</table>\n",
       "</div>"
      ],
      "text/plain": [
       "          <DATE>    <TIME>   <OPEN>   <HIGH>    <LOW>  <CLOSE>  <TICKVOL>  \\\n",
       "6256  2025.03.05  08:00:00  1.06312  1.06390  1.06241  1.06321       2728   \n",
       "6257  2025.03.05  09:00:00  1.06325  1.06766  1.06295  1.06739       5718   \n",
       "6258  2025.03.05  10:00:00  1.06736  1.06998  1.06585  1.06982       6590   \n",
       "6259  2025.03.05  11:00:00  1.06977  1.07222  1.06955  1.07115       5860   \n",
       "6260  2025.03.05  12:00:00  1.07116  1.07150  1.06834  1.06915       3870   \n",
       "\n",
       "      <VOL>  <SPREAD>  \n",
       "6256      0         2  \n",
       "6257      0         1  \n",
       "6258      0         1  \n",
       "6259      0         1  \n",
       "6260      0         1  "
      ]
     },
     "execution_count": 11,
     "metadata": {},
     "output_type": "execute_result"
    }
   ],
   "source": [
    "df = pd.read_csv('../../EURUSD_H1_202403_2025.csv', sep='\\t')\n",
    "df.tail()"
   ]
  },
  {
   "cell_type": "code",
   "execution_count": 12,
   "metadata": {},
   "outputs": [
    {
     "data": {
      "text/html": [
       "<div>\n",
       "<style scoped>\n",
       "    .dataframe tbody tr th:only-of-type {\n",
       "        vertical-align: middle;\n",
       "    }\n",
       "\n",
       "    .dataframe tbody tr th {\n",
       "        vertical-align: top;\n",
       "    }\n",
       "\n",
       "    .dataframe thead th {\n",
       "        text-align: right;\n",
       "    }\n",
       "</style>\n",
       "<table border=\"1\" class=\"dataframe\">\n",
       "  <thead>\n",
       "    <tr style=\"text-align: right;\">\n",
       "      <th></th>\n",
       "      <th>&lt;DATE&gt;</th>\n",
       "      <th>&lt;TIME&gt;</th>\n",
       "      <th>OPEN</th>\n",
       "      <th>HIGH</th>\n",
       "      <th>LOW</th>\n",
       "      <th>CLOSE</th>\n",
       "      <th>&lt;TICKVOL&gt;</th>\n",
       "      <th>&lt;VOL&gt;</th>\n",
       "      <th>&lt;SPREAD&gt;</th>\n",
       "    </tr>\n",
       "  </thead>\n",
       "  <tbody>\n",
       "    <tr>\n",
       "      <th>6256</th>\n",
       "      <td>2025.03.05</td>\n",
       "      <td>08:00:00</td>\n",
       "      <td>1.06312</td>\n",
       "      <td>1.06390</td>\n",
       "      <td>1.06241</td>\n",
       "      <td>1.06321</td>\n",
       "      <td>2728</td>\n",
       "      <td>0</td>\n",
       "      <td>2</td>\n",
       "    </tr>\n",
       "    <tr>\n",
       "      <th>6257</th>\n",
       "      <td>2025.03.05</td>\n",
       "      <td>09:00:00</td>\n",
       "      <td>1.06325</td>\n",
       "      <td>1.06766</td>\n",
       "      <td>1.06295</td>\n",
       "      <td>1.06739</td>\n",
       "      <td>5718</td>\n",
       "      <td>0</td>\n",
       "      <td>1</td>\n",
       "    </tr>\n",
       "    <tr>\n",
       "      <th>6258</th>\n",
       "      <td>2025.03.05</td>\n",
       "      <td>10:00:00</td>\n",
       "      <td>1.06736</td>\n",
       "      <td>1.06998</td>\n",
       "      <td>1.06585</td>\n",
       "      <td>1.06982</td>\n",
       "      <td>6590</td>\n",
       "      <td>0</td>\n",
       "      <td>1</td>\n",
       "    </tr>\n",
       "    <tr>\n",
       "      <th>6259</th>\n",
       "      <td>2025.03.05</td>\n",
       "      <td>11:00:00</td>\n",
       "      <td>1.06977</td>\n",
       "      <td>1.07222</td>\n",
       "      <td>1.06955</td>\n",
       "      <td>1.07115</td>\n",
       "      <td>5860</td>\n",
       "      <td>0</td>\n",
       "      <td>1</td>\n",
       "    </tr>\n",
       "    <tr>\n",
       "      <th>6260</th>\n",
       "      <td>2025.03.05</td>\n",
       "      <td>12:00:00</td>\n",
       "      <td>1.07116</td>\n",
       "      <td>1.07150</td>\n",
       "      <td>1.06834</td>\n",
       "      <td>1.06915</td>\n",
       "      <td>3870</td>\n",
       "      <td>0</td>\n",
       "      <td>1</td>\n",
       "    </tr>\n",
       "  </tbody>\n",
       "</table>\n",
       "</div>"
      ],
      "text/plain": [
       "          <DATE>    <TIME>     OPEN     HIGH      LOW    CLOSE  <TICKVOL>  \\\n",
       "6256  2025.03.05  08:00:00  1.06312  1.06390  1.06241  1.06321       2728   \n",
       "6257  2025.03.05  09:00:00  1.06325  1.06766  1.06295  1.06739       5718   \n",
       "6258  2025.03.05  10:00:00  1.06736  1.06998  1.06585  1.06982       6590   \n",
       "6259  2025.03.05  11:00:00  1.06977  1.07222  1.06955  1.07115       5860   \n",
       "6260  2025.03.05  12:00:00  1.07116  1.07150  1.06834  1.06915       3870   \n",
       "\n",
       "      <VOL>  <SPREAD>  \n",
       "6256      0         2  \n",
       "6257      0         1  \n",
       "6258      0         1  \n",
       "6259      0         1  \n",
       "6260      0         1  "
      ]
     },
     "execution_count": 12,
     "metadata": {},
     "output_type": "execute_result"
    }
   ],
   "source": [
    "df.rename(columns={\n",
    "    '<OPEN>': 'OPEN', \n",
    "    '<HIGH>': 'HIGH', \n",
    "    '<LOW>': 'LOW', \n",
    "    '<CLOSE>': 'CLOSE'\n",
    "}, inplace=True)\n",
    "df.tail()"
   ]
  },
  {
   "cell_type": "code",
   "execution_count": 14,
   "metadata": {},
   "outputs": [
    {
     "data": {
      "text/html": [
       "<div>\n",
       "<style scoped>\n",
       "    .dataframe tbody tr th:only-of-type {\n",
       "        vertical-align: middle;\n",
       "    }\n",
       "\n",
       "    .dataframe tbody tr th {\n",
       "        vertical-align: top;\n",
       "    }\n",
       "\n",
       "    .dataframe thead th {\n",
       "        text-align: right;\n",
       "    }\n",
       "</style>\n",
       "<table border=\"1\" class=\"dataframe\">\n",
       "  <thead>\n",
       "    <tr style=\"text-align: right;\">\n",
       "      <th></th>\n",
       "      <th>CLOSE</th>\n",
       "    </tr>\n",
       "    <tr>\n",
       "      <th>DATETIME</th>\n",
       "      <th></th>\n",
       "    </tr>\n",
       "  </thead>\n",
       "  <tbody>\n",
       "    <tr>\n",
       "      <th>2025-03-05 08:00:00</th>\n",
       "      <td>1.06321</td>\n",
       "    </tr>\n",
       "    <tr>\n",
       "      <th>2025-03-05 09:00:00</th>\n",
       "      <td>1.06739</td>\n",
       "    </tr>\n",
       "    <tr>\n",
       "      <th>2025-03-05 10:00:00</th>\n",
       "      <td>1.06982</td>\n",
       "    </tr>\n",
       "    <tr>\n",
       "      <th>2025-03-05 11:00:00</th>\n",
       "      <td>1.07115</td>\n",
       "    </tr>\n",
       "    <tr>\n",
       "      <th>2025-03-05 12:00:00</th>\n",
       "      <td>1.06915</td>\n",
       "    </tr>\n",
       "  </tbody>\n",
       "</table>\n",
       "</div>"
      ],
      "text/plain": [
       "                       CLOSE\n",
       "DATETIME                    \n",
       "2025-03-05 08:00:00  1.06321\n",
       "2025-03-05 09:00:00  1.06739\n",
       "2025-03-05 10:00:00  1.06982\n",
       "2025-03-05 11:00:00  1.07115\n",
       "2025-03-05 12:00:00  1.06915"
      ]
     },
     "execution_count": 14,
     "metadata": {},
     "output_type": "execute_result"
    }
   ],
   "source": [
    "ts = create_ts_from_df(df, '<DATE>', '<TIME>', 'DATETIME')\n",
    "new_ts = ts[['CLOSE']]\n",
    "new_ts.tail()"
   ]
  },
  {
   "cell_type": "markdown",
   "metadata": {},
   "source": [
    "# Feature Engineering"
   ]
  },
  {
   "cell_type": "markdown",
   "metadata": {},
   "source": [
    "### Créations des colonnes avec les valeurs prix de cloture décalées de 24h __Xi = (X[t - i])__"
   ]
  },
  {
   "cell_type": "code",
   "execution_count": 15,
   "metadata": {},
   "outputs": [
    {
     "name": "stderr",
     "output_type": "stream",
     "text": [
      "/Users/stephcyrille/Trading/notebooks/forex/../../utils/dataset.py:138: SettingWithCopyWarning: \n",
      "A value is trying to be set on a copy of a slice from a DataFrame.\n",
      "Try using .loc[row_indexer,col_indexer] = value instead\n",
      "\n",
      "See the caveats in the documentation: https://pandas.pydata.org/pandas-docs/stable/user_guide/indexing.html#returning-a-view-versus-a-copy\n",
      "  self.df[indicator_field_name] = self.df[close_field].ewm(span=span, adjust=False).mean()\n",
      "/Users/stephcyrille/Trading/notebooks/forex/../../utils/dataset.py:175: SettingWithCopyWarning: \n",
      "A value is trying to be set on a copy of a slice from a DataFrame.\n",
      "Try using .loc[row_indexer,col_indexer] = value instead\n",
      "\n",
      "See the caveats in the documentation: https://pandas.pydata.org/pandas-docs/stable/user_guide/indexing.html#returning-a-view-versus-a-copy\n",
      "  self.df[indicator_field_name] = 100 - (100 / (1 + rs))\n",
      "/Users/stephcyrille/Trading/notebooks/forex/../../utils/dataset.py:153: SettingWithCopyWarning: \n",
      "A value is trying to be set on a copy of a slice from a DataFrame.\n",
      "Try using .loc[row_indexer,col_indexer] = value instead\n",
      "\n",
      "See the caveats in the documentation: https://pandas.pydata.org/pandas-docs/stable/user_guide/indexing.html#returning-a-view-versus-a-copy\n",
      "  self.df['EMA_SHORT'] = self.df[column].ewm(span=short_span, adjust=False).mean()\n",
      "/Users/stephcyrille/Trading/notebooks/forex/../../utils/dataset.py:154: SettingWithCopyWarning: \n",
      "A value is trying to be set on a copy of a slice from a DataFrame.\n",
      "Try using .loc[row_indexer,col_indexer] = value instead\n",
      "\n",
      "See the caveats in the documentation: https://pandas.pydata.org/pandas-docs/stable/user_guide/indexing.html#returning-a-view-versus-a-copy\n",
      "  self.df['EMA_LONG'] = self.df[column].ewm(span=long_span, adjust=False).mean()\n",
      "/Users/stephcyrille/Trading/notebooks/forex/../../utils/dataset.py:155: SettingWithCopyWarning: \n",
      "A value is trying to be set on a copy of a slice from a DataFrame.\n",
      "Try using .loc[row_indexer,col_indexer] = value instead\n",
      "\n",
      "See the caveats in the documentation: https://pandas.pydata.org/pandas-docs/stable/user_guide/indexing.html#returning-a-view-versus-a-copy\n",
      "  self.df['MACD'] = self.df['EMA_SHORT'] - self.df['EMA_LONG']\n"
     ]
    }
   ],
   "source": [
    "dataset = TreadingDataset(ts[['CLOSE']])\n",
    "dataset.prepare_data()"
   ]
  },
  {
   "cell_type": "markdown",
   "metadata": {},
   "source": [
    "# Préparation des données de modélisation"
   ]
  },
  {
   "cell_type": "code",
   "execution_count": 17,
   "metadata": {},
   "outputs": [],
   "source": [
    "X, y = dataset.feature_sequence, dataset.target_sequence"
   ]
  },
  {
   "cell_type": "code",
   "execution_count": 19,
   "metadata": {},
   "outputs": [],
   "source": [
    "X, y = np.array(X), np.array(y)\n",
    "train_size = int(len(X) * 0.8)\n",
    "X_train, X_test = X[:train_size], X[train_size:]\n",
    "y_train, y_test = y[:train_size], y[train_size:]"
   ]
  },
  {
   "cell_type": "markdown",
   "metadata": {},
   "source": [
    "### Compilation du modèle"
   ]
  },
  {
   "cell_type": "code",
   "execution_count": 20,
   "metadata": {},
   "outputs": [
    {
     "data": {
      "text/html": [
       "<pre style=\"white-space:pre;overflow-x:auto;line-height:normal;font-family:Menlo,'DejaVu Sans Mono',consolas,'Courier New',monospace\"><span style=\"font-weight: bold\">Model: \"sequential\"</span>\n",
       "</pre>\n"
      ],
      "text/plain": [
       "\u001b[1mModel: \"sequential\"\u001b[0m\n"
      ]
     },
     "metadata": {},
     "output_type": "display_data"
    },
    {
     "data": {
      "text/html": [
       "<pre style=\"white-space:pre;overflow-x:auto;line-height:normal;font-family:Menlo,'DejaVu Sans Mono',consolas,'Courier New',monospace\">┏━━━━━━━━━━━━━━━━━━━━━━━━━━━━━━━━━┳━━━━━━━━━━━━━━━━━━━━━━━━┳━━━━━━━━━━━━━━━┓\n",
       "┃<span style=\"font-weight: bold\"> Layer (type)                    </span>┃<span style=\"font-weight: bold\"> Output Shape           </span>┃<span style=\"font-weight: bold\">       Param # </span>┃\n",
       "┡━━━━━━━━━━━━━━━━━━━━━━━━━━━━━━━━━╇━━━━━━━━━━━━━━━━━━━━━━━━╇━━━━━━━━━━━━━━━┩\n",
       "│ lstm (<span style=\"color: #0087ff; text-decoration-color: #0087ff\">LSTM</span>)                     │ (<span style=\"color: #00d7ff; text-decoration-color: #00d7ff\">None</span>, <span style=\"color: #00af00; text-decoration-color: #00af00\">512</span>)            │     <span style=\"color: #00af00; text-decoration-color: #00af00\">1,099,776</span> │\n",
       "├─────────────────────────────────┼────────────────────────┼───────────────┤\n",
       "│ dense (<span style=\"color: #0087ff; text-decoration-color: #0087ff\">Dense</span>)                   │ (<span style=\"color: #00d7ff; text-decoration-color: #00d7ff\">None</span>, <span style=\"color: #00af00; text-decoration-color: #00af00\">8</span>)              │         <span style=\"color: #00af00; text-decoration-color: #00af00\">4,104</span> │\n",
       "├─────────────────────────────────┼────────────────────────┼───────────────┤\n",
       "│ dense_1 (<span style=\"color: #0087ff; text-decoration-color: #0087ff\">Dense</span>)                 │ (<span style=\"color: #00d7ff; text-decoration-color: #00d7ff\">None</span>, <span style=\"color: #00af00; text-decoration-color: #00af00\">1</span>)              │             <span style=\"color: #00af00; text-decoration-color: #00af00\">9</span> │\n",
       "└─────────────────────────────────┴────────────────────────┴───────────────┘\n",
       "</pre>\n"
      ],
      "text/plain": [
       "┏━━━━━━━━━━━━━━━━━━━━━━━━━━━━━━━━━┳━━━━━━━━━━━━━━━━━━━━━━━━┳━━━━━━━━━━━━━━━┓\n",
       "┃\u001b[1m \u001b[0m\u001b[1mLayer (type)                   \u001b[0m\u001b[1m \u001b[0m┃\u001b[1m \u001b[0m\u001b[1mOutput Shape          \u001b[0m\u001b[1m \u001b[0m┃\u001b[1m \u001b[0m\u001b[1m      Param #\u001b[0m\u001b[1m \u001b[0m┃\n",
       "┡━━━━━━━━━━━━━━━━━━━━━━━━━━━━━━━━━╇━━━━━━━━━━━━━━━━━━━━━━━━╇━━━━━━━━━━━━━━━┩\n",
       "│ lstm (\u001b[38;5;33mLSTM\u001b[0m)                     │ (\u001b[38;5;45mNone\u001b[0m, \u001b[38;5;34m512\u001b[0m)            │     \u001b[38;5;34m1,099,776\u001b[0m │\n",
       "├─────────────────────────────────┼────────────────────────┼───────────────┤\n",
       "│ dense (\u001b[38;5;33mDense\u001b[0m)                   │ (\u001b[38;5;45mNone\u001b[0m, \u001b[38;5;34m8\u001b[0m)              │         \u001b[38;5;34m4,104\u001b[0m │\n",
       "├─────────────────────────────────┼────────────────────────┼───────────────┤\n",
       "│ dense_1 (\u001b[38;5;33mDense\u001b[0m)                 │ (\u001b[38;5;45mNone\u001b[0m, \u001b[38;5;34m1\u001b[0m)              │             \u001b[38;5;34m9\u001b[0m │\n",
       "└─────────────────────────────────┴────────────────────────┴───────────────┘\n"
      ]
     },
     "metadata": {},
     "output_type": "display_data"
    },
    {
     "data": {
      "text/html": [
       "<pre style=\"white-space:pre;overflow-x:auto;line-height:normal;font-family:Menlo,'DejaVu Sans Mono',consolas,'Courier New',monospace\"><span style=\"font-weight: bold\"> Total params: </span><span style=\"color: #00af00; text-decoration-color: #00af00\">1,103,889</span> (4.21 MB)\n",
       "</pre>\n"
      ],
      "text/plain": [
       "\u001b[1m Total params: \u001b[0m\u001b[38;5;34m1,103,889\u001b[0m (4.21 MB)\n"
      ]
     },
     "metadata": {},
     "output_type": "display_data"
    },
    {
     "data": {
      "text/html": [
       "<pre style=\"white-space:pre;overflow-x:auto;line-height:normal;font-family:Menlo,'DejaVu Sans Mono',consolas,'Courier New',monospace\"><span style=\"font-weight: bold\"> Trainable params: </span><span style=\"color: #00af00; text-decoration-color: #00af00\">1,103,889</span> (4.21 MB)\n",
       "</pre>\n"
      ],
      "text/plain": [
       "\u001b[1m Trainable params: \u001b[0m\u001b[38;5;34m1,103,889\u001b[0m (4.21 MB)\n"
      ]
     },
     "metadata": {},
     "output_type": "display_data"
    },
    {
     "data": {
      "text/html": [
       "<pre style=\"white-space:pre;overflow-x:auto;line-height:normal;font-family:Menlo,'DejaVu Sans Mono',consolas,'Courier New',monospace\"><span style=\"font-weight: bold\"> Non-trainable params: </span><span style=\"color: #00af00; text-decoration-color: #00af00\">0</span> (0.00 B)\n",
       "</pre>\n"
      ],
      "text/plain": [
       "\u001b[1m Non-trainable params: \u001b[0m\u001b[38;5;34m0\u001b[0m (0.00 B)\n"
      ]
     },
     "metadata": {},
     "output_type": "display_data"
    }
   ],
   "source": [
    "lstm_model = Sequential([\n",
    "    Input(shape=(X.shape[1], X.shape[2])),    \n",
    "    # LSTM(30, return_sequences=True),\n",
    "    LSTM(512),\n",
    "    Dense(8, activation='relu'),\n",
    "    Dense(1, activation='linear')\n",
    "])\n",
    "\n",
    "\n",
    "lstm_model.compile(\n",
    "    optimizer=Adam(learning_rate=0.0001, weight_decay = 1e-5),\n",
    "    loss='mse'\n",
    ")\n",
    "lstm_model.summary()\n"
   ]
  },
  {
   "cell_type": "markdown",
   "metadata": {},
   "source": [
    "### Apprentissage"
   ]
  },
  {
   "cell_type": "code",
   "execution_count": 21,
   "metadata": {},
   "outputs": [
    {
     "name": "stdout",
     "output_type": "stream",
     "text": [
      "Epoch 1/100\n",
      "\u001b[1m155/155\u001b[0m \u001b[32m━━━━━━━━━━━━━━━━━━━━\u001b[0m\u001b[37m\u001b[0m \u001b[1m18s\u001b[0m 101ms/step - loss: 0.0235 - val_loss: 9.6705e-04\n",
      "Epoch 2/100\n",
      "\u001b[1m155/155\u001b[0m \u001b[32m━━━━━━━━━━━━━━━━━━━━\u001b[0m\u001b[37m\u001b[0m \u001b[1m15s\u001b[0m 94ms/step - loss: 3.7509e-04 - val_loss: 7.6899e-04\n",
      "Epoch 3/100\n",
      "\u001b[1m155/155\u001b[0m \u001b[32m━━━━━━━━━━━━━━━━━━━━\u001b[0m\u001b[37m\u001b[0m \u001b[1m13s\u001b[0m 85ms/step - loss: 2.9610e-04 - val_loss: 6.3950e-04\n",
      "Epoch 4/100\n",
      "\u001b[1m155/155\u001b[0m \u001b[32m━━━━━━━━━━━━━━━━━━━━\u001b[0m\u001b[37m\u001b[0m \u001b[1m11s\u001b[0m 69ms/step - loss: 3.0411e-04 - val_loss: 6.2572e-04\n",
      "Epoch 5/100\n",
      "\u001b[1m155/155\u001b[0m \u001b[32m━━━━━━━━━━━━━━━━━━━━\u001b[0m\u001b[37m\u001b[0m \u001b[1m11s\u001b[0m 73ms/step - loss: 2.8088e-04 - val_loss: 5.5881e-04\n",
      "Epoch 6/100\n",
      "\u001b[1m155/155\u001b[0m \u001b[32m━━━━━━━━━━━━━━━━━━━━\u001b[0m\u001b[37m\u001b[0m \u001b[1m12s\u001b[0m 75ms/step - loss: 2.8348e-04 - val_loss: 5.6983e-04\n",
      "Epoch 7/100\n",
      "\u001b[1m155/155\u001b[0m \u001b[32m━━━━━━━━━━━━━━━━━━━━\u001b[0m\u001b[37m\u001b[0m \u001b[1m12s\u001b[0m 76ms/step - loss: 2.3487e-04 - val_loss: 5.3535e-04\n",
      "Epoch 8/100\n",
      "\u001b[1m155/155\u001b[0m \u001b[32m━━━━━━━━━━━━━━━━━━━━\u001b[0m\u001b[37m\u001b[0m \u001b[1m12s\u001b[0m 76ms/step - loss: 2.4947e-04 - val_loss: 5.1322e-04\n",
      "Epoch 9/100\n",
      "\u001b[1m155/155\u001b[0m \u001b[32m━━━━━━━━━━━━━━━━━━━━\u001b[0m\u001b[37m\u001b[0m \u001b[1m12s\u001b[0m 76ms/step - loss: 2.2055e-04 - val_loss: 4.8103e-04\n",
      "Epoch 10/100\n",
      "\u001b[1m155/155\u001b[0m \u001b[32m━━━━━━━━━━━━━━━━━━━━\u001b[0m\u001b[37m\u001b[0m \u001b[1m12s\u001b[0m 79ms/step - loss: 2.3073e-04 - val_loss: 5.4779e-04\n",
      "Epoch 11/100\n",
      "\u001b[1m155/155\u001b[0m \u001b[32m━━━━━━━━━━━━━━━━━━━━\u001b[0m\u001b[37m\u001b[0m \u001b[1m12s\u001b[0m 79ms/step - loss: 2.2884e-04 - val_loss: 4.8081e-04\n",
      "Epoch 12/100\n",
      "\u001b[1m155/155\u001b[0m \u001b[32m━━━━━━━━━━━━━━━━━━━━\u001b[0m\u001b[37m\u001b[0m \u001b[1m12s\u001b[0m 77ms/step - loss: 2.3546e-04 - val_loss: 4.5946e-04\n",
      "Epoch 13/100\n",
      "\u001b[1m155/155\u001b[0m \u001b[32m━━━━━━━━━━━━━━━━━━━━\u001b[0m\u001b[37m\u001b[0m \u001b[1m12s\u001b[0m 77ms/step - loss: 2.3577e-04 - val_loss: 4.2245e-04\n",
      "Epoch 14/100\n",
      "\u001b[1m155/155\u001b[0m \u001b[32m━━━━━━━━━━━━━━━━━━━━\u001b[0m\u001b[37m\u001b[0m \u001b[1m12s\u001b[0m 79ms/step - loss: 2.4368e-04 - val_loss: 4.3839e-04\n",
      "Epoch 15/100\n",
      "\u001b[1m155/155\u001b[0m \u001b[32m━━━━━━━━━━━━━━━━━━━━\u001b[0m\u001b[37m\u001b[0m \u001b[1m10s\u001b[0m 66ms/step - loss: 2.2546e-04 - val_loss: 4.0661e-04\n",
      "Epoch 16/100\n",
      "\u001b[1m155/155\u001b[0m \u001b[32m━━━━━━━━━━━━━━━━━━━━\u001b[0m\u001b[37m\u001b[0m \u001b[1m16s\u001b[0m 103ms/step - loss: 2.0393e-04 - val_loss: 3.9744e-04\n",
      "Epoch 17/100\n",
      "\u001b[1m155/155\u001b[0m \u001b[32m━━━━━━━━━━━━━━━━━━━━\u001b[0m\u001b[37m\u001b[0m \u001b[1m11s\u001b[0m 71ms/step - loss: 2.3240e-04 - val_loss: 4.1034e-04\n",
      "Epoch 18/100\n",
      "\u001b[1m155/155\u001b[0m \u001b[32m━━━━━━━━━━━━━━━━━━━━\u001b[0m\u001b[37m\u001b[0m \u001b[1m11s\u001b[0m 71ms/step - loss: 2.5145e-04 - val_loss: 4.6015e-04\n",
      "Epoch 19/100\n",
      "\u001b[1m155/155\u001b[0m \u001b[32m━━━━━━━━━━━━━━━━━━━━\u001b[0m\u001b[37m\u001b[0m \u001b[1m11s\u001b[0m 68ms/step - loss: 2.1065e-04 - val_loss: 3.9450e-04\n",
      "Epoch 20/100\n",
      "\u001b[1m155/155\u001b[0m \u001b[32m━━━━━━━━━━━━━━━━━━━━\u001b[0m\u001b[37m\u001b[0m \u001b[1m10s\u001b[0m 67ms/step - loss: 2.5441e-04 - val_loss: 5.5865e-04\n",
      "Epoch 21/100\n",
      "\u001b[1m155/155\u001b[0m \u001b[32m━━━━━━━━━━━━━━━━━━━━\u001b[0m\u001b[37m\u001b[0m \u001b[1m10s\u001b[0m 67ms/step - loss: 2.0780e-04 - val_loss: 4.1111e-04\n",
      "Epoch 22/100\n",
      "\u001b[1m155/155\u001b[0m \u001b[32m━━━━━━━━━━━━━━━━━━━━\u001b[0m\u001b[37m\u001b[0m \u001b[1m11s\u001b[0m 70ms/step - loss: 2.3206e-04 - val_loss: 4.2853e-04\n",
      "Epoch 23/100\n",
      "\u001b[1m155/155\u001b[0m \u001b[32m━━━━━━━━━━━━━━━━━━━━\u001b[0m\u001b[37m\u001b[0m \u001b[1m11s\u001b[0m 71ms/step - loss: 2.2288e-04 - val_loss: 3.9844e-04\n",
      "Epoch 24/100\n",
      "\u001b[1m155/155\u001b[0m \u001b[32m━━━━━━━━━━━━━━━━━━━━\u001b[0m\u001b[37m\u001b[0m \u001b[1m11s\u001b[0m 68ms/step - loss: 2.2261e-04 - val_loss: 3.7727e-04\n",
      "Epoch 25/100\n",
      "\u001b[1m155/155\u001b[0m \u001b[32m━━━━━━━━━━━━━━━━━━━━\u001b[0m\u001b[37m\u001b[0m \u001b[1m11s\u001b[0m 68ms/step - loss: 2.1188e-04 - val_loss: 3.9946e-04\n",
      "Epoch 26/100\n",
      "\u001b[1m155/155\u001b[0m \u001b[32m━━━━━━━━━━━━━━━━━━━━\u001b[0m\u001b[37m\u001b[0m \u001b[1m10s\u001b[0m 62ms/step - loss: 1.9104e-04 - val_loss: 3.7414e-04\n",
      "Epoch 27/100\n",
      "\u001b[1m155/155\u001b[0m \u001b[32m━━━━━━━━━━━━━━━━━━━━\u001b[0m\u001b[37m\u001b[0m \u001b[1m10s\u001b[0m 63ms/step - loss: 2.5924e-04 - val_loss: 4.5271e-04\n",
      "Epoch 28/100\n",
      "\u001b[1m155/155\u001b[0m \u001b[32m━━━━━━━━━━━━━━━━━━━━\u001b[0m\u001b[37m\u001b[0m \u001b[1m11s\u001b[0m 69ms/step - loss: 1.8185e-04 - val_loss: 3.5900e-04\n",
      "Epoch 29/100\n",
      "\u001b[1m155/155\u001b[0m \u001b[32m━━━━━━━━━━━━━━━━━━━━\u001b[0m\u001b[37m\u001b[0m \u001b[1m11s\u001b[0m 67ms/step - loss: 1.9760e-04 - val_loss: 3.5784e-04\n",
      "Epoch 30/100\n",
      "\u001b[1m155/155\u001b[0m \u001b[32m━━━━━━━━━━━━━━━━━━━━\u001b[0m\u001b[37m\u001b[0m \u001b[1m10s\u001b[0m 66ms/step - loss: 1.8916e-04 - val_loss: 4.2421e-04\n",
      "Epoch 31/100\n",
      "\u001b[1m155/155\u001b[0m \u001b[32m━━━━━━━━━━━━━━━━━━━━\u001b[0m\u001b[37m\u001b[0m \u001b[1m10s\u001b[0m 67ms/step - loss: 2.0506e-04 - val_loss: 3.5961e-04\n",
      "Epoch 32/100\n",
      "\u001b[1m155/155\u001b[0m \u001b[32m━━━━━━━━━━━━━━━━━━━━\u001b[0m\u001b[37m\u001b[0m \u001b[1m10s\u001b[0m 66ms/step - loss: 1.8853e-04 - val_loss: 3.6635e-04\n",
      "Epoch 33/100\n",
      "\u001b[1m155/155\u001b[0m \u001b[32m━━━━━━━━━━━━━━━━━━━━\u001b[0m\u001b[37m\u001b[0m \u001b[1m11s\u001b[0m 68ms/step - loss: 2.2499e-04 - val_loss: 3.5502e-04\n",
      "Epoch 34/100\n",
      "\u001b[1m155/155\u001b[0m \u001b[32m━━━━━━━━━━━━━━━━━━━━\u001b[0m\u001b[37m\u001b[0m \u001b[1m10s\u001b[0m 66ms/step - loss: 2.0863e-04 - val_loss: 5.4931e-04\n",
      "Epoch 35/100\n",
      "\u001b[1m155/155\u001b[0m \u001b[32m━━━━━━━━━━━━━━━━━━━━\u001b[0m\u001b[37m\u001b[0m \u001b[1m10s\u001b[0m 65ms/step - loss: 2.1108e-04 - val_loss: 3.5244e-04\n",
      "Epoch 36/100\n",
      "\u001b[1m155/155\u001b[0m \u001b[32m━━━━━━━━━━━━━━━━━━━━\u001b[0m\u001b[37m\u001b[0m \u001b[1m10s\u001b[0m 65ms/step - loss: 2.0270e-04 - val_loss: 3.4968e-04\n",
      "Epoch 37/100\n",
      "\u001b[1m155/155\u001b[0m \u001b[32m━━━━━━━━━━━━━━━━━━━━\u001b[0m\u001b[37m\u001b[0m \u001b[1m10s\u001b[0m 65ms/step - loss: 1.8767e-04 - val_loss: 5.7399e-04\n",
      "Epoch 38/100\n",
      "\u001b[1m155/155\u001b[0m \u001b[32m━━━━━━━━━━━━━━━━━━━━\u001b[0m\u001b[37m\u001b[0m \u001b[1m10s\u001b[0m 62ms/step - loss: 1.9352e-04 - val_loss: 3.7658e-04\n",
      "Epoch 39/100\n",
      "\u001b[1m155/155\u001b[0m \u001b[32m━━━━━━━━━━━━━━━━━━━━\u001b[0m\u001b[37m\u001b[0m \u001b[1m10s\u001b[0m 67ms/step - loss: 1.8547e-04 - val_loss: 3.5213e-04\n",
      "Epoch 40/100\n",
      "\u001b[1m155/155\u001b[0m \u001b[32m━━━━━━━━━━━━━━━━━━━━\u001b[0m\u001b[37m\u001b[0m \u001b[1m10s\u001b[0m 63ms/step - loss: 2.0030e-04 - val_loss: 3.6861e-04\n",
      "Epoch 41/100\n",
      "\u001b[1m155/155\u001b[0m \u001b[32m━━━━━━━━━━━━━━━━━━━━\u001b[0m\u001b[37m\u001b[0m \u001b[1m10s\u001b[0m 64ms/step - loss: 1.7838e-04 - val_loss: 3.5048e-04\n",
      "Epoch 42/100\n",
      "\u001b[1m155/155\u001b[0m \u001b[32m━━━━━━━━━━━━━━━━━━━━\u001b[0m\u001b[37m\u001b[0m \u001b[1m11s\u001b[0m 69ms/step - loss: 1.8905e-04 - val_loss: 3.6667e-04\n",
      "Epoch 43/100\n",
      "\u001b[1m155/155\u001b[0m \u001b[32m━━━━━━━━━━━━━━━━━━━━\u001b[0m\u001b[37m\u001b[0m \u001b[1m10s\u001b[0m 63ms/step - loss: 1.9301e-04 - val_loss: 3.4341e-04\n",
      "Epoch 44/100\n",
      "\u001b[1m155/155\u001b[0m \u001b[32m━━━━━━━━━━━━━━━━━━━━\u001b[0m\u001b[37m\u001b[0m \u001b[1m10s\u001b[0m 64ms/step - loss: 1.9169e-04 - val_loss: 4.3431e-04\n",
      "Epoch 45/100\n",
      "\u001b[1m155/155\u001b[0m \u001b[32m━━━━━━━━━━━━━━━━━━━━\u001b[0m\u001b[37m\u001b[0m \u001b[1m10s\u001b[0m 66ms/step - loss: 1.9272e-04 - val_loss: 3.4575e-04\n",
      "Epoch 46/100\n",
      "\u001b[1m155/155\u001b[0m \u001b[32m━━━━━━━━━━━━━━━━━━━━\u001b[0m\u001b[37m\u001b[0m \u001b[1m10s\u001b[0m 67ms/step - loss: 1.8746e-04 - val_loss: 4.0694e-04\n",
      "Epoch 47/100\n",
      "\u001b[1m155/155\u001b[0m \u001b[32m━━━━━━━━━━━━━━━━━━━━\u001b[0m\u001b[37m\u001b[0m \u001b[1m10s\u001b[0m 68ms/step - loss: 1.9026e-04 - val_loss: 3.5417e-04\n",
      "Epoch 48/100\n",
      "\u001b[1m155/155\u001b[0m \u001b[32m━━━━━━━━━━━━━━━━━━━━\u001b[0m\u001b[37m\u001b[0m \u001b[1m10s\u001b[0m 67ms/step - loss: 1.8020e-04 - val_loss: 3.1120e-04\n",
      "Epoch 49/100\n",
      "\u001b[1m155/155\u001b[0m \u001b[32m━━━━━━━━━━━━━━━━━━━━\u001b[0m\u001b[37m\u001b[0m \u001b[1m10s\u001b[0m 64ms/step - loss: 1.9072e-04 - val_loss: 3.3728e-04\n",
      "Epoch 50/100\n",
      "\u001b[1m155/155\u001b[0m \u001b[32m━━━━━━━━━━━━━━━━━━━━\u001b[0m\u001b[37m\u001b[0m \u001b[1m10s\u001b[0m 63ms/step - loss: 1.7998e-04 - val_loss: 3.2230e-04\n",
      "Epoch 51/100\n",
      "\u001b[1m155/155\u001b[0m \u001b[32m━━━━━━━━━━━━━━━━━━━━\u001b[0m\u001b[37m\u001b[0m \u001b[1m10s\u001b[0m 63ms/step - loss: 2.0351e-04 - val_loss: 3.1575e-04\n",
      "Epoch 52/100\n",
      "\u001b[1m155/155\u001b[0m \u001b[32m━━━━━━━━━━━━━━━━━━━━\u001b[0m\u001b[37m\u001b[0m \u001b[1m10s\u001b[0m 65ms/step - loss: 1.8892e-04 - val_loss: 3.5963e-04\n",
      "Epoch 53/100\n",
      "\u001b[1m155/155\u001b[0m \u001b[32m━━━━━━━━━━━━━━━━━━━━\u001b[0m\u001b[37m\u001b[0m \u001b[1m10s\u001b[0m 62ms/step - loss: 1.9777e-04 - val_loss: 3.1522e-04\n",
      "Epoch 54/100\n",
      "\u001b[1m155/155\u001b[0m \u001b[32m━━━━━━━━━━━━━━━━━━━━\u001b[0m\u001b[37m\u001b[0m \u001b[1m10s\u001b[0m 62ms/step - loss: 1.8065e-04 - val_loss: 3.0884e-04\n",
      "Epoch 55/100\n",
      "\u001b[1m155/155\u001b[0m \u001b[32m━━━━━━━━━━━━━━━━━━━━\u001b[0m\u001b[37m\u001b[0m \u001b[1m10s\u001b[0m 63ms/step - loss: 1.7827e-04 - val_loss: 3.1920e-04\n",
      "Epoch 56/100\n",
      "\u001b[1m155/155\u001b[0m \u001b[32m━━━━━━━━━━━━━━━━━━━━\u001b[0m\u001b[37m\u001b[0m \u001b[1m10s\u001b[0m 66ms/step - loss: 1.7471e-04 - val_loss: 3.0852e-04\n",
      "Epoch 57/100\n",
      "\u001b[1m155/155\u001b[0m \u001b[32m━━━━━━━━━━━━━━━━━━━━\u001b[0m\u001b[37m\u001b[0m \u001b[1m10s\u001b[0m 66ms/step - loss: 1.9559e-04 - val_loss: 3.1493e-04\n",
      "Epoch 58/100\n",
      "\u001b[1m155/155\u001b[0m \u001b[32m━━━━━━━━━━━━━━━━━━━━\u001b[0m\u001b[37m\u001b[0m \u001b[1m10s\u001b[0m 63ms/step - loss: 1.7486e-04 - val_loss: 3.0428e-04\n",
      "Epoch 59/100\n",
      "\u001b[1m155/155\u001b[0m \u001b[32m━━━━━━━━━━━━━━━━━━━━\u001b[0m\u001b[37m\u001b[0m \u001b[1m10s\u001b[0m 64ms/step - loss: 1.8773e-04 - val_loss: 3.1418e-04\n",
      "Epoch 60/100\n",
      "\u001b[1m155/155\u001b[0m \u001b[32m━━━━━━━━━━━━━━━━━━━━\u001b[0m\u001b[37m\u001b[0m \u001b[1m10s\u001b[0m 65ms/step - loss: 1.7995e-04 - val_loss: 4.9065e-04\n",
      "Epoch 61/100\n",
      "\u001b[1m155/155\u001b[0m \u001b[32m━━━━━━━━━━━━━━━━━━━━\u001b[0m\u001b[37m\u001b[0m \u001b[1m10s\u001b[0m 63ms/step - loss: 1.7526e-04 - val_loss: 3.0168e-04\n",
      "Epoch 62/100\n",
      "\u001b[1m155/155\u001b[0m \u001b[32m━━━━━━━━━━━━━━━━━━━━\u001b[0m\u001b[37m\u001b[0m \u001b[1m10s\u001b[0m 65ms/step - loss: 1.9036e-04 - val_loss: 2.9604e-04\n",
      "Epoch 63/100\n",
      "\u001b[1m155/155\u001b[0m \u001b[32m━━━━━━━━━━━━━━━━━━━━\u001b[0m\u001b[37m\u001b[0m \u001b[1m10s\u001b[0m 62ms/step - loss: 1.6964e-04 - val_loss: 2.9803e-04\n",
      "Epoch 64/100\n",
      "\u001b[1m155/155\u001b[0m \u001b[32m━━━━━━━━━━━━━━━━━━━━\u001b[0m\u001b[37m\u001b[0m \u001b[1m10s\u001b[0m 65ms/step - loss: 1.7979e-04 - val_loss: 3.3505e-04\n",
      "Epoch 65/100\n",
      "\u001b[1m155/155\u001b[0m \u001b[32m━━━━━━━━━━━━━━━━━━━━\u001b[0m\u001b[37m\u001b[0m \u001b[1m10s\u001b[0m 62ms/step - loss: 1.7835e-04 - val_loss: 3.1151e-04\n",
      "Epoch 66/100\n",
      "\u001b[1m155/155\u001b[0m \u001b[32m━━━━━━━━━━━━━━━━━━━━\u001b[0m\u001b[37m\u001b[0m \u001b[1m10s\u001b[0m 63ms/step - loss: 1.7365e-04 - val_loss: 3.5402e-04\n",
      "Epoch 67/100\n",
      "\u001b[1m155/155\u001b[0m \u001b[32m━━━━━━━━━━━━━━━━━━━━\u001b[0m\u001b[37m\u001b[0m \u001b[1m10s\u001b[0m 63ms/step - loss: 1.7735e-04 - val_loss: 3.0312e-04\n",
      "Epoch 68/100\n",
      "\u001b[1m155/155\u001b[0m \u001b[32m━━━━━━━━━━━━━━━━━━━━\u001b[0m\u001b[37m\u001b[0m \u001b[1m10s\u001b[0m 62ms/step - loss: 1.7346e-04 - val_loss: 2.9331e-04\n",
      "Epoch 69/100\n",
      "\u001b[1m155/155\u001b[0m \u001b[32m━━━━━━━━━━━━━━━━━━━━\u001b[0m\u001b[37m\u001b[0m \u001b[1m10s\u001b[0m 63ms/step - loss: 1.7375e-04 - val_loss: 3.1095e-04\n",
      "Epoch 70/100\n",
      "\u001b[1m155/155\u001b[0m \u001b[32m━━━━━━━━━━━━━━━━━━━━\u001b[0m\u001b[37m\u001b[0m \u001b[1m9s\u001b[0m 61ms/step - loss: 1.6552e-04 - val_loss: 3.1441e-04\n",
      "Epoch 71/100\n",
      "\u001b[1m155/155\u001b[0m \u001b[32m━━━━━━━━━━━━━━━━━━━━\u001b[0m\u001b[37m\u001b[0m \u001b[1m9s\u001b[0m 59ms/step - loss: 1.6381e-04 - val_loss: 3.4298e-04\n",
      "Epoch 72/100\n",
      "\u001b[1m155/155\u001b[0m \u001b[32m━━━━━━━━━━━━━━━━━━━━\u001b[0m\u001b[37m\u001b[0m \u001b[1m9s\u001b[0m 58ms/step - loss: 1.5485e-04 - val_loss: 3.9064e-04\n",
      "Epoch 73/100\n",
      "\u001b[1m155/155\u001b[0m \u001b[32m━━━━━━━━━━━━━━━━━━━━\u001b[0m\u001b[37m\u001b[0m \u001b[1m10s\u001b[0m 64ms/step - loss: 1.7573e-04 - val_loss: 3.6836e-04\n",
      "Epoch 74/100\n",
      "\u001b[1m155/155\u001b[0m \u001b[32m━━━━━━━━━━━━━━━━━━━━\u001b[0m\u001b[37m\u001b[0m \u001b[1m10s\u001b[0m 63ms/step - loss: 1.4945e-04 - val_loss: 3.0624e-04\n",
      "Epoch 75/100\n",
      "\u001b[1m155/155\u001b[0m \u001b[32m━━━━━━━━━━━━━━━━━━━━\u001b[0m\u001b[37m\u001b[0m \u001b[1m10s\u001b[0m 67ms/step - loss: 1.6649e-04 - val_loss: 3.5882e-04\n",
      "Epoch 76/100\n",
      "\u001b[1m155/155\u001b[0m \u001b[32m━━━━━━━━━━━━━━━━━━━━\u001b[0m\u001b[37m\u001b[0m \u001b[1m10s\u001b[0m 65ms/step - loss: 1.6626e-04 - val_loss: 2.9086e-04\n",
      "Epoch 77/100\n",
      "\u001b[1m155/155\u001b[0m \u001b[32m━━━━━━━━━━━━━━━━━━━━\u001b[0m\u001b[37m\u001b[0m \u001b[1m10s\u001b[0m 66ms/step - loss: 1.4558e-04 - val_loss: 3.0003e-04\n",
      "Epoch 78/100\n",
      "\u001b[1m155/155\u001b[0m \u001b[32m━━━━━━━━━━━━━━━━━━━━\u001b[0m\u001b[37m\u001b[0m \u001b[1m13s\u001b[0m 83ms/step - loss: 1.7073e-04 - val_loss: 2.9355e-04\n",
      "Epoch 79/100\n",
      "\u001b[1m155/155\u001b[0m \u001b[32m━━━━━━━━━━━━━━━━━━━━\u001b[0m\u001b[37m\u001b[0m \u001b[1m10s\u001b[0m 65ms/step - loss: 1.6846e-04 - val_loss: 3.0575e-04\n",
      "Epoch 80/100\n",
      "\u001b[1m155/155\u001b[0m \u001b[32m━━━━━━━━━━━━━━━━━━━━\u001b[0m\u001b[37m\u001b[0m \u001b[1m10s\u001b[0m 66ms/step - loss: 1.7356e-04 - val_loss: 3.0033e-04\n",
      "Epoch 81/100\n",
      "\u001b[1m155/155\u001b[0m \u001b[32m━━━━━━━━━━━━━━━━━━━━\u001b[0m\u001b[37m\u001b[0m \u001b[1m10s\u001b[0m 66ms/step - loss: 1.6793e-04 - val_loss: 3.3220e-04\n",
      "Epoch 82/100\n",
      "\u001b[1m155/155\u001b[0m \u001b[32m━━━━━━━━━━━━━━━━━━━━\u001b[0m\u001b[37m\u001b[0m \u001b[1m11s\u001b[0m 68ms/step - loss: 1.8395e-04 - val_loss: 3.1833e-04\n",
      "Epoch 83/100\n",
      "\u001b[1m155/155\u001b[0m \u001b[32m━━━━━━━━━━━━━━━━━━━━\u001b[0m\u001b[37m\u001b[0m \u001b[1m10s\u001b[0m 65ms/step - loss: 1.6543e-04 - val_loss: 2.9017e-04\n",
      "Epoch 84/100\n",
      "\u001b[1m155/155\u001b[0m \u001b[32m━━━━━━━━━━━━━━━━━━━━\u001b[0m\u001b[37m\u001b[0m \u001b[1m11s\u001b[0m 69ms/step - loss: 1.6055e-04 - val_loss: 3.0066e-04\n",
      "Epoch 85/100\n",
      "\u001b[1m155/155\u001b[0m \u001b[32m━━━━━━━━━━━━━━━━━━━━\u001b[0m\u001b[37m\u001b[0m \u001b[1m11s\u001b[0m 69ms/step - loss: 1.6536e-04 - val_loss: 2.8972e-04\n",
      "Epoch 86/100\n",
      "\u001b[1m155/155\u001b[0m \u001b[32m━━━━━━━━━━━━━━━━━━━━\u001b[0m\u001b[37m\u001b[0m \u001b[1m10s\u001b[0m 65ms/step - loss: 1.6797e-04 - val_loss: 2.7741e-04\n",
      "Epoch 87/100\n",
      "\u001b[1m155/155\u001b[0m \u001b[32m━━━━━━━━━━━━━━━━━━━━\u001b[0m\u001b[37m\u001b[0m \u001b[1m10s\u001b[0m 67ms/step - loss: 1.5384e-04 - val_loss: 2.7198e-04\n",
      "Epoch 88/100\n",
      "\u001b[1m155/155\u001b[0m \u001b[32m━━━━━━━━━━━━━━━━━━━━\u001b[0m\u001b[37m\u001b[0m \u001b[1m10s\u001b[0m 65ms/step - loss: 1.6627e-04 - val_loss: 2.7463e-04\n",
      "Epoch 89/100\n",
      "\u001b[1m155/155\u001b[0m \u001b[32m━━━━━━━━━━━━━━━━━━━━\u001b[0m\u001b[37m\u001b[0m \u001b[1m11s\u001b[0m 68ms/step - loss: 1.6969e-04 - val_loss: 2.7141e-04\n",
      "Epoch 90/100\n",
      "\u001b[1m155/155\u001b[0m \u001b[32m━━━━━━━━━━━━━━━━━━━━\u001b[0m\u001b[37m\u001b[0m \u001b[1m10s\u001b[0m 66ms/step - loss: 1.5156e-04 - val_loss: 3.2179e-04\n",
      "Epoch 91/100\n",
      "\u001b[1m155/155\u001b[0m \u001b[32m━━━━━━━━━━━━━━━━━━━━\u001b[0m\u001b[37m\u001b[0m \u001b[1m11s\u001b[0m 69ms/step - loss: 1.5342e-04 - val_loss: 2.7529e-04\n",
      "Epoch 92/100\n",
      "\u001b[1m155/155\u001b[0m \u001b[32m━━━━━━━━━━━━━━━━━━━━\u001b[0m\u001b[37m\u001b[0m \u001b[1m10s\u001b[0m 63ms/step - loss: 1.6586e-04 - val_loss: 2.9877e-04\n",
      "Epoch 93/100\n",
      "\u001b[1m155/155\u001b[0m \u001b[32m━━━━━━━━━━━━━━━━━━━━\u001b[0m\u001b[37m\u001b[0m \u001b[1m10s\u001b[0m 67ms/step - loss: 1.6451e-04 - val_loss: 3.1351e-04\n",
      "Epoch 94/100\n",
      "\u001b[1m155/155\u001b[0m \u001b[32m━━━━━━━━━━━━━━━━━━━━\u001b[0m\u001b[37m\u001b[0m \u001b[1m10s\u001b[0m 67ms/step - loss: 1.8912e-04 - val_loss: 3.2263e-04\n",
      "Epoch 95/100\n",
      "\u001b[1m155/155\u001b[0m \u001b[32m━━━━━━━━━━━━━━━━━━━━\u001b[0m\u001b[37m\u001b[0m \u001b[1m10s\u001b[0m 65ms/step - loss: 1.6018e-04 - val_loss: 2.9867e-04\n",
      "Epoch 96/100\n",
      "\u001b[1m155/155\u001b[0m \u001b[32m━━━━━━━━━━━━━━━━━━━━\u001b[0m\u001b[37m\u001b[0m \u001b[1m10s\u001b[0m 63ms/step - loss: 1.5616e-04 - val_loss: 3.0164e-04\n",
      "Epoch 97/100\n",
      "\u001b[1m155/155\u001b[0m \u001b[32m━━━━━━━━━━━━━━━━━━━━\u001b[0m\u001b[37m\u001b[0m \u001b[1m10s\u001b[0m 65ms/step - loss: 1.5862e-04 - val_loss: 2.7195e-04\n",
      "Epoch 98/100\n",
      "\u001b[1m155/155\u001b[0m \u001b[32m━━━━━━━━━━━━━━━━━━━━\u001b[0m\u001b[37m\u001b[0m \u001b[1m10s\u001b[0m 62ms/step - loss: 1.9252e-04 - val_loss: 2.7779e-04\n",
      "Epoch 99/100\n",
      "\u001b[1m155/155\u001b[0m \u001b[32m━━━━━━━━━━━━━━━━━━━━\u001b[0m\u001b[37m\u001b[0m \u001b[1m10s\u001b[0m 63ms/step - loss: 1.6856e-04 - val_loss: 2.7302e-04\n",
      "Epoch 100/100\n",
      "\u001b[1m155/155\u001b[0m \u001b[32m━━━━━━━━━━━━━━━━━━━━\u001b[0m\u001b[37m\u001b[0m \u001b[1m10s\u001b[0m 61ms/step - loss: 1.6808e-04 - val_loss: 2.6952e-04\n"
     ]
    }
   ],
   "source": [
    "# Entraînement du modèle\n",
    "history = lstm_model.fit(\n",
    "    X_train, \n",
    "    y_train, \n",
    "    batch_size=BATCH_SIZE, \n",
    "    epochs=100, \n",
    "    validation_data=(X_test, y_test), \n",
    "    verbose=1)"
   ]
  },
  {
   "cell_type": "markdown",
   "metadata": {},
   "source": [
    "## Evaluation du modèle"
   ]
  },
  {
   "cell_type": "markdown",
   "metadata": {},
   "source": [
    "### Courbe d'apprentissage"
   ]
  },
  {
   "cell_type": "code",
   "execution_count": null,
   "metadata": {},
   "outputs": [
    {
     "name": "stdout",
     "output_type": "stream",
     "text": [
      "\u001b[1m39/39\u001b[0m \u001b[32m━━━━━━━━━━━━━━━━━━━━\u001b[0m\u001b[37m\u001b[0m \u001b[1m1s\u001b[0m 24ms/step\n"
     ]
    },
    {
     "data": {
      "image/png": "[encoded data removed]",
      "text/plain": [
       "<Figure size 800x500 with 1 Axes>"
      ]
     },
     "metadata": {},
     "output_type": "display_data"
    }
   ],
   "source": [
    "# Prédiction sur les données de test\n",
    "predictions = history.model.predict(X_test)\n",
    "predictions = dataset.target_scaler.inverse_transform(predictions)  # Inverser la normalisation\n",
    "\n",
    "# Comparaison des prédictions avec les vraies valeurs\n",
    "y_test_actual = dataset.target_scaler.inverse_transform(y_test.reshape(-1, 1))\n",
    "\n",
    "#Plotting the prediction vs actual graph for scaled data\n",
    "plt.figure(figsize = [8,5])\n",
    "plt.title('Prediction vs Actual')\n",
    "plt.xlabel('Hours')\n",
    "plt.ylabel('Price')\n",
    "plt.plot(y_test_actual,label = \"Actual close\")\n",
    "plt.plot(predictions,label=\"Predicted close\")\n",
    "plt.legend()\n",
    "plt.show()"
   ]
  },
  {
   "cell_type": "code",
   "execution_count": 23,
   "metadata": {},
   "outputs": [
    {
     "data": {
      "image/png": "[encoded data removed]",
      "text/plain": [
       "<Figure size 1000x600 with 1 Axes>"
      ]
     },
     "metadata": {},
     "output_type": "display_data"
    }
   ],
   "source": [
    "# Plotting the learning curve\n",
    "plt.figure(figsize=(10, 6))\n",
    "plt.plot(history.history['val_loss'], label='Validation Loss')\n",
    "plt.plot(history.history['loss'], label='Training Loss')\n",
    "plt.title('Learning Curve')\n",
    "plt.xlabel('Epochs')\n",
    "plt.ylabel('Loss')\n",
    "plt.legend()\n",
    "plt.show()"
   ]
  },
  {
   "cell_type": "markdown",
   "metadata": {},
   "source": [
    "### Metriques d'évaluation"
   ]
  },
  {
   "cell_type": "code",
   "execution_count": 24,
   "metadata": {},
   "outputs": [
    {
     "name": "stdout",
     "output_type": "stream",
     "text": [
      "Mean Squared Error: 2.7586455806456728e-06\n",
      "Mean Absolute Error: 0.0011259016230949735\n",
      "Root Mean Squared Error: 0.0016609170902383034\n",
      "RSquared :  95.55%\n"
     ]
    }
   ],
   "source": [
    "# Calculate Mean Squared Error\n",
    "mse = mean_squared_error(y_test_actual, predictions)\n",
    "print(f'Mean Squared Error: {mse}')\n",
    "\n",
    "# Calculate Mean Absolute Error\n",
    "mae = mean_absolute_error(y_test_actual, predictions)\n",
    "print(f'Mean Absolute Error: {mae}')\n",
    "\n",
    "# Calculate RMSE\n",
    "rmse = np.sqrt(mse)\n",
    "print(f'Root Mean Squared Error: {rmse}')\n",
    "\n",
    "# R2\n",
    "print('RSquared : ', '{:.2%}'.format(r2_score(y_test_actual, predictions)))"
   ]
  },
  {
   "cell_type": "markdown",
   "metadata": {},
   "source": [
    "## Sauvegarde du model"
   ]
  },
  {
   "cell_type": "code",
   "execution_count": 26,
   "metadata": {},
   "outputs": [],
   "source": [
    "# history.model.save('../../models/test/best_model_EURUSD.keras')\n",
    "# print('Model saved!!')"
   ]
  },
  {
   "cell_type": "code",
   "execution_count": 34,
   "metadata": {},
   "outputs": [],
   "source": [
    "ts.to_csv('../../notebooks/inference/datasets/eur_usd_2024_03_2025.csv', index=True)"
   ]
  },
  {
   "cell_type": "markdown",
   "metadata": {},
   "source": [
    "## Inférence"
   ]
  },
  {
   "cell_type": "markdown",
   "metadata": {},
   "source": [
    "### Prédiction de la prochaine valeur"
   ]
  },
  {
   "cell_type": "code",
   "execution_count": 35,
   "metadata": {},
   "outputs": [
    {
     "name": "stdout",
     "output_type": "stream",
     "text": [
      "\u001b[1m1/1\u001b[0m \u001b[32m━━━━━━━━━━━━━━━━━━━━\u001b[0m\u001b[37m\u001b[0m \u001b[1m0s\u001b[0m 87ms/step\n",
      "Le prix de clôture prédit pour l'heure suivante est : 1.0491446256637573\n"
     ]
    }
   ],
   "source": [
    "# Utiliser les dernières séquences pour prédire le prochain prix\n",
    "last_seq_df = df_scaled.drop(columns=['CLOSE'])\n",
    "last_sequence = X[-1]\n",
    "last_sequence = last_sequence.reshape((1, SEQUENCE_LENGTH, last_sequence.shape[1]))\n",
    "\n",
    "# Prédiction\n",
    "predicted_price_scaled = history.model.predict(last_sequence)\n",
    "predicted_price = scaler_target.inverse_transform(predicted_price_scaled)\n",
    "print(f\"Le prix de clôture prédit pour l'heure suivante est : {predicted_price[0][0]}\")"
   ]
  },
  {
   "cell_type": "markdown",
   "metadata": {},
   "source": [
    "### Ajout de la valeur au prochain Timeframe"
   ]
  },
  {
   "cell_type": "code",
   "execution_count": 36,
   "metadata": {},
   "outputs": [
    {
     "data": {
      "text/html": [
       "<div>\n",
       "<style scoped>\n",
       "    .dataframe tbody tr th:only-of-type {\n",
       "        vertical-align: middle;\n",
       "    }\n",
       "\n",
       "    .dataframe tbody tr th {\n",
       "        vertical-align: top;\n",
       "    }\n",
       "\n",
       "    .dataframe thead th {\n",
       "        text-align: right;\n",
       "    }\n",
       "</style>\n",
       "<table border=\"1\" class=\"dataframe\">\n",
       "  <thead>\n",
       "    <tr style=\"text-align: right;\">\n",
       "      <th></th>\n",
       "      <th>CLOSE</th>\n",
       "    </tr>\n",
       "  </thead>\n",
       "  <tbody>\n",
       "    <tr>\n",
       "      <th>2025-03-03 18:00:00</th>\n",
       "      <td>1.049590</td>\n",
       "    </tr>\n",
       "    <tr>\n",
       "      <th>2025-03-03 19:00:00</th>\n",
       "      <td>1.049020</td>\n",
       "    </tr>\n",
       "    <tr>\n",
       "      <th>2025-03-03 20:00:00</th>\n",
       "      <td>1.048690</td>\n",
       "    </tr>\n",
       "    <tr>\n",
       "      <th>2025-03-03 21:00:00</th>\n",
       "      <td>1.048930</td>\n",
       "    </tr>\n",
       "    <tr>\n",
       "      <th>2025-03-03 22:00:00</th>\n",
       "      <td>1.049145</td>\n",
       "    </tr>\n",
       "  </tbody>\n",
       "</table>\n",
       "</div>"
      ],
      "text/plain": [
       "                        CLOSE\n",
       "2025-03-03 18:00:00  1.049590\n",
       "2025-03-03 19:00:00  1.049020\n",
       "2025-03-03 20:00:00  1.048690\n",
       "2025-03-03 21:00:00  1.048930\n",
       "2025-03-03 22:00:00  1.049145"
      ]
     },
     "execution_count": 36,
     "metadata": {},
     "output_type": "execute_result"
    }
   ],
   "source": [
    "# Optionnel : Ajouter la prédiction au dataset\n",
    "next_timestamp = ts.index[-1] + pd.Timedelta(hours=1)  # Supposons des données horaires\n",
    "new_row = pd.DataFrame({'CLOSE': predicted_price[0][0]}, index=[next_timestamp])\n",
    "data = pd.concat([ts['CLOSE'], new_row])\n",
    "data.tail()"
   ]
  },
  {
   "cell_type": "markdown",
   "metadata": {},
   "source": [
    "# Pipeline Prediction "
   ]
  },
  {
   "cell_type": "code",
   "execution_count": 37,
   "metadata": {},
   "outputs": [
    {
     "name": "stdout",
     "output_type": "stream",
     "text": [
      "\u001b[1m1/1\u001b[0m \u001b[32m━━━━━━━━━━━━━━━━━━━━\u001b[0m\u001b[37m\u001b[0m \u001b[1m0s\u001b[0m 55ms/step\n",
      "\u001b[1m1/1\u001b[0m \u001b[32m━━━━━━━━━━━━━━━━━━━━\u001b[0m\u001b[37m\u001b[0m \u001b[1m0s\u001b[0m 81ms/step\n",
      "\u001b[1m1/1\u001b[0m \u001b[32m━━━━━━━━━━━━━━━━━━━━\u001b[0m\u001b[37m\u001b[0m \u001b[1m0s\u001b[0m 80ms/step\n",
      "\u001b[1m1/1\u001b[0m \u001b[32m━━━━━━━━━━━━━━━━━━━━\u001b[0m\u001b[37m\u001b[0m \u001b[1m0s\u001b[0m 84ms/step\n",
      "\u001b[1m1/1\u001b[0m \u001b[32m━━━━━━━━━━━━━━━━━━━━\u001b[0m\u001b[37m\u001b[0m \u001b[1m0s\u001b[0m 86ms/step\n"
     ]
    },
    {
     "data": {
      "text/html": [
       "<div>\n",
       "<style scoped>\n",
       "    .dataframe tbody tr th:only-of-type {\n",
       "        vertical-align: middle;\n",
       "    }\n",
       "\n",
       "    .dataframe tbody tr th {\n",
       "        vertical-align: top;\n",
       "    }\n",
       "\n",
       "    .dataframe thead th {\n",
       "        text-align: right;\n",
       "    }\n",
       "</style>\n",
       "<table border=\"1\" class=\"dataframe\">\n",
       "  <thead>\n",
       "    <tr style=\"text-align: right;\">\n",
       "      <th></th>\n",
       "      <th>CLOSE</th>\n",
       "    </tr>\n",
       "  </thead>\n",
       "  <tbody>\n",
       "    <tr>\n",
       "      <th>2025-03-03 19:00:00</th>\n",
       "      <td>1.049020</td>\n",
       "    </tr>\n",
       "    <tr>\n",
       "      <th>2025-03-03 20:00:00</th>\n",
       "      <td>1.048690</td>\n",
       "    </tr>\n",
       "    <tr>\n",
       "      <th>2025-03-03 21:00:00</th>\n",
       "      <td>1.048930</td>\n",
       "    </tr>\n",
       "    <tr>\n",
       "      <th>2025-03-03 22:00:00</th>\n",
       "      <td>1.049145</td>\n",
       "    </tr>\n",
       "    <tr>\n",
       "      <th>2025-03-03 23:00:00</th>\n",
       "      <td>1.048825</td>\n",
       "    </tr>\n",
       "    <tr>\n",
       "      <th>2025-03-04 00:00:00</th>\n",
       "      <td>1.048815</td>\n",
       "    </tr>\n",
       "    <tr>\n",
       "      <th>2025-03-04 01:00:00</th>\n",
       "      <td>1.048993</td>\n",
       "    </tr>\n",
       "    <tr>\n",
       "      <th>2025-03-04 02:00:00</th>\n",
       "      <td>1.048920</td>\n",
       "    </tr>\n",
       "  </tbody>\n",
       "</table>\n",
       "</div>"
      ],
      "text/plain": [
       "                        CLOSE\n",
       "2025-03-03 19:00:00  1.049020\n",
       "2025-03-03 20:00:00  1.048690\n",
       "2025-03-03 21:00:00  1.048930\n",
       "2025-03-03 22:00:00  1.049145\n",
       "2025-03-03 23:00:00  1.048825\n",
       "2025-03-04 00:00:00  1.048815\n",
       "2025-03-04 01:00:00  1.048993\n",
       "2025-03-04 02:00:00  1.048920"
      ]
     },
     "execution_count": 37,
     "metadata": {},
     "output_type": "execute_result"
    }
   ],
   "source": [
    "# Base df \n",
    "base_df = dc(new_ts)\n",
    "prev_ts = base_df[['CLOSE']]\n",
    "\n",
    "for _ in range(5):\n",
    "    t_scal, enc_df = processing_before_prediction(prev_ts, SHIFT_SIZE, SEQUENCE_LENGTH, calculate_ema, \n",
    "                                                  calculate_rsi, calculate_bollinger_bands, calculate_macd )\n",
    "    \n",
    "    # Get the last sequence of the dataframe\n",
    "    last_prev_lines = enc_df[-1]\n",
    "\n",
    "    # Predict the next tf value\n",
    "    next_index = prev_ts.index[-1] + pd.Timedelta(hours=1)\n",
    "    new_line_df = predict_the_next_tf('CLOSE', \n",
    "                            last_prev_lines, \n",
    "                            lstm_model, \n",
    "                            t_scal, \n",
    "                            SEQUENCE_LENGTH, \n",
    "                            next_index)\n",
    "    prev_ts = pd.concat([prev_ts, new_line_df])\n",
    "    \n",
    "prev_ts.tail(8)"
   ]
  },
  {
   "cell_type": "code",
   "execution_count": null,
   "metadata": {},
   "outputs": [
    {
     "data": {
      "image/png": "[encoded data removed]",
      "text/plain": [
       "<Figure size 800x500 with 1 Axes>"
      ]
     },
     "metadata": {},
     "output_type": "display_data"
    }
   ],
   "source": [
    "\n",
    "# Plotting the prediction vs actual graph for scaled data\n",
    "plt.figure(figsize = [8,5])\n",
    "plt.plot(prev_ts[['CLOSE']].loc['2025-02-26 17:00:00':'2025-02-27 10:00:00'], label='Predicted values')\n",
    "plt.plot(df[['OPEN']].loc['2025-02-26 17:00:00':'2025-03-04 10:00:00'], label='Real values')\n",
    "plt.title('Predicted values')\n",
    "plt.xlabel('Time Step')\n",
    "plt.ylabel('Price')\n",
    "plt.legend()\n",
    "plt.show()"
   ]
  },
  {
   "cell_type": "code",
   "execution_count": 25,
   "metadata": {},
   "outputs": [],
   "source": [
    "# df[['OPEN']].loc['2025-02-26 17:00:00+00:00':'2025-02-27 10:00:00+00:00']"
   ]
  }
 ],
 "metadata": {
  "kernelspec": {
   "display_name": ".venv",
   "language": "python",
   "name": "python3"
  },
  "language_info": {
   "codemirror_mode": {
    "name": "ipython",
    "version": 3
   },
   "file_extension": ".py",
   "mimetype": "text/x-python",
   "name": "python",
   "nbconvert_exporter": "python",
   "pygments_lexer": "ipython3",
   "version": "3.10.0"
  }
 },
 "nbformat": 4,
 "nbformat_minor": 2
}
