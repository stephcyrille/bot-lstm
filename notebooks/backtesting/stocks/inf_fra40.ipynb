{
 "cells": [
  {
   "cell_type": "code",
   "execution_count": 11,
   "metadata": {},
   "outputs": [],
   "source": [
    "import sys\n",
    "sys.path.append('../../../')\n",
    "\n",
    "import pandas as pd\n",
    "\n",
    "import keras\n",
    "\n",
    "from utils.predictor import PredictorToolkit\n",
    "from utils.dataset import TreadingDataset\n",
    "from utils.strategy import TradeStrategy\n",
    "from utils.backtester import Backtester\n",
    "from utils.field_processing import create_ts_from_df\n",
    "import warnings\n",
    "\n",
    "warnings.filterwarnings('ignore')"
   ]
  },
  {
   "cell_type": "code",
   "execution_count": 12,
   "metadata": {},
   "outputs": [],
   "source": [
    "SEQUENCE_LENGTH = 9\n",
    "SHIFT_SIZE = 3"
   ]
  },
  {
   "cell_type": "markdown",
   "metadata": {},
   "source": [
    "# Loading the model"
   ]
  },
  {
   "cell_type": "code",
   "execution_count": 13,
   "metadata": {},
   "outputs": [
    {
     "data": {
      "text/html": [
       "<pre style=\"white-space:pre;overflow-x:auto;line-height:normal;font-family:Menlo,'DejaVu Sans Mono',consolas,'Courier New',monospace\"><span style=\"font-weight: bold\">Model: \"sequential\"</span>\n",
       "</pre>\n"
      ],
      "text/plain": [
       "\u001b[1mModel: \"sequential\"\u001b[0m\n"
      ]
     },
     "metadata": {},
     "output_type": "display_data"
    },
    {
     "data": {
      "text/html": [
       "<pre style=\"white-space:pre;overflow-x:auto;line-height:normal;font-family:Menlo,'DejaVu Sans Mono',consolas,'Courier New',monospace\">┏━━━━━━━━━━━━━━━━━━━━━━━━━━━━━━━━━┳━━━━━━━━━━━━━━━━━━━━━━━━┳━━━━━━━━━━━━━━━┓\n",
       "┃<span style=\"font-weight: bold\"> Layer (type)                    </span>┃<span style=\"font-weight: bold\"> Output Shape           </span>┃<span style=\"font-weight: bold\">       Param # </span>┃\n",
       "┡━━━━━━━━━━━━━━━━━━━━━━━━━━━━━━━━━╇━━━━━━━━━━━━━━━━━━━━━━━━╇━━━━━━━━━━━━━━━┩\n",
       "│ lstm (<span style=\"color: #0087ff; text-decoration-color: #0087ff\">LSTM</span>)                     │ (<span style=\"color: #00d7ff; text-decoration-color: #00d7ff\">None</span>, <span style=\"color: #00af00; text-decoration-color: #00af00\">512</span>)            │     <span style=\"color: #00af00; text-decoration-color: #00af00\">1,099,776</span> │\n",
       "├─────────────────────────────────┼────────────────────────┼───────────────┤\n",
       "│ dense (<span style=\"color: #0087ff; text-decoration-color: #0087ff\">Dense</span>)                   │ (<span style=\"color: #00d7ff; text-decoration-color: #00d7ff\">None</span>, <span style=\"color: #00af00; text-decoration-color: #00af00\">8</span>)              │         <span style=\"color: #00af00; text-decoration-color: #00af00\">4,104</span> │\n",
       "├─────────────────────────────────┼────────────────────────┼───────────────┤\n",
       "│ dense_1 (<span style=\"color: #0087ff; text-decoration-color: #0087ff\">Dense</span>)                 │ (<span style=\"color: #00d7ff; text-decoration-color: #00d7ff\">None</span>, <span style=\"color: #00af00; text-decoration-color: #00af00\">1</span>)              │             <span style=\"color: #00af00; text-decoration-color: #00af00\">9</span> │\n",
       "└─────────────────────────────────┴────────────────────────┴───────────────┘\n",
       "</pre>\n"
      ],
      "text/plain": [
       "┏━━━━━━━━━━━━━━━━━━━━━━━━━━━━━━━━━┳━━━━━━━━━━━━━━━━━━━━━━━━┳━━━━━━━━━━━━━━━┓\n",
       "┃\u001b[1m \u001b[0m\u001b[1mLayer (type)                   \u001b[0m\u001b[1m \u001b[0m┃\u001b[1m \u001b[0m\u001b[1mOutput Shape          \u001b[0m\u001b[1m \u001b[0m┃\u001b[1m \u001b[0m\u001b[1m      Param #\u001b[0m\u001b[1m \u001b[0m┃\n",
       "┡━━━━━━━━━━━━━━━━━━━━━━━━━━━━━━━━━╇━━━━━━━━━━━━━━━━━━━━━━━━╇━━━━━━━━━━━━━━━┩\n",
       "│ lstm (\u001b[38;5;33mLSTM\u001b[0m)                     │ (\u001b[38;5;45mNone\u001b[0m, \u001b[38;5;34m512\u001b[0m)            │     \u001b[38;5;34m1,099,776\u001b[0m │\n",
       "├─────────────────────────────────┼────────────────────────┼───────────────┤\n",
       "│ dense (\u001b[38;5;33mDense\u001b[0m)                   │ (\u001b[38;5;45mNone\u001b[0m, \u001b[38;5;34m8\u001b[0m)              │         \u001b[38;5;34m4,104\u001b[0m │\n",
       "├─────────────────────────────────┼────────────────────────┼───────────────┤\n",
       "│ dense_1 (\u001b[38;5;33mDense\u001b[0m)                 │ (\u001b[38;5;45mNone\u001b[0m, \u001b[38;5;34m1\u001b[0m)              │             \u001b[38;5;34m9\u001b[0m │\n",
       "└─────────────────────────────────┴────────────────────────┴───────────────┘\n"
      ]
     },
     "metadata": {},
     "output_type": "display_data"
    },
    {
     "data": {
      "text/html": [
       "<pre style=\"white-space:pre;overflow-x:auto;line-height:normal;font-family:Menlo,'DejaVu Sans Mono',consolas,'Courier New',monospace\"><span style=\"font-weight: bold\"> Total params: </span><span style=\"color: #00af00; text-decoration-color: #00af00\">3,311,669</span> (12.63 MB)\n",
       "</pre>\n"
      ],
      "text/plain": [
       "\u001b[1m Total params: \u001b[0m\u001b[38;5;34m3,311,669\u001b[0m (12.63 MB)\n"
      ]
     },
     "metadata": {},
     "output_type": "display_data"
    },
    {
     "data": {
      "text/html": [
       "<pre style=\"white-space:pre;overflow-x:auto;line-height:normal;font-family:Menlo,'DejaVu Sans Mono',consolas,'Courier New',monospace\"><span style=\"font-weight: bold\"> Trainable params: </span><span style=\"color: #00af00; text-decoration-color: #00af00\">1,103,889</span> (4.21 MB)\n",
       "</pre>\n"
      ],
      "text/plain": [
       "\u001b[1m Trainable params: \u001b[0m\u001b[38;5;34m1,103,889\u001b[0m (4.21 MB)\n"
      ]
     },
     "metadata": {},
     "output_type": "display_data"
    },
    {
     "data": {
      "text/html": [
       "<pre style=\"white-space:pre;overflow-x:auto;line-height:normal;font-family:Menlo,'DejaVu Sans Mono',consolas,'Courier New',monospace\"><span style=\"font-weight: bold\"> Non-trainable params: </span><span style=\"color: #00af00; text-decoration-color: #00af00\">0</span> (0.00 B)\n",
       "</pre>\n"
      ],
      "text/plain": [
       "\u001b[1m Non-trainable params: \u001b[0m\u001b[38;5;34m0\u001b[0m (0.00 B)\n"
      ]
     },
     "metadata": {},
     "output_type": "display_data"
    },
    {
     "data": {
      "text/html": [
       "<pre style=\"white-space:pre;overflow-x:auto;line-height:normal;font-family:Menlo,'DejaVu Sans Mono',consolas,'Courier New',monospace\"><span style=\"font-weight: bold\"> Optimizer params: </span><span style=\"color: #00af00; text-decoration-color: #00af00\">2,207,780</span> (8.42 MB)\n",
       "</pre>\n"
      ],
      "text/plain": [
       "\u001b[1m Optimizer params: \u001b[0m\u001b[38;5;34m2,207,780\u001b[0m (8.42 MB)\n"
      ]
     },
     "metadata": {},
     "output_type": "display_data"
    }
   ],
   "source": [
    "model = keras.models.load_model('../../../models/test/best_model_FRA40.keras')\n",
    "model.summary()"
   ]
  },
  {
   "cell_type": "markdown",
   "metadata": {},
   "source": [
    "# Loading the previous sequences"
   ]
  },
  {
   "cell_type": "code",
   "execution_count": 14,
   "metadata": {},
   "outputs": [
    {
     "data": {
      "text/html": [
       "<div>\n",
       "<style scoped>\n",
       "    .dataframe tbody tr th:only-of-type {\n",
       "        vertical-align: middle;\n",
       "    }\n",
       "\n",
       "    .dataframe tbody tr th {\n",
       "        vertical-align: top;\n",
       "    }\n",
       "\n",
       "    .dataframe thead th {\n",
       "        text-align: right;\n",
       "    }\n",
       "</style>\n",
       "<table border=\"1\" class=\"dataframe\">\n",
       "  <thead>\n",
       "    <tr style=\"text-align: right;\">\n",
       "      <th></th>\n",
       "      <th>OPEN</th>\n",
       "      <th>HIGH</th>\n",
       "      <th>LOW</th>\n",
       "      <th>CLOSE</th>\n",
       "    </tr>\n",
       "    <tr>\n",
       "      <th>DATETIME</th>\n",
       "      <th></th>\n",
       "      <th></th>\n",
       "      <th></th>\n",
       "      <th></th>\n",
       "    </tr>\n",
       "  </thead>\n",
       "  <tbody>\n",
       "    <tr>\n",
       "      <th>2025-03-07 19:00:00</th>\n",
       "      <td>8113.7</td>\n",
       "      <td>8173.0</td>\n",
       "      <td>8101.6</td>\n",
       "      <td>8148.7</td>\n",
       "    </tr>\n",
       "    <tr>\n",
       "      <th>2025-03-07 20:00:00</th>\n",
       "      <td>8149.2</td>\n",
       "      <td>8188.7</td>\n",
       "      <td>8148.6</td>\n",
       "      <td>8188.2</td>\n",
       "    </tr>\n",
       "    <tr>\n",
       "      <th>2025-03-07 21:00:00</th>\n",
       "      <td>8187.7</td>\n",
       "      <td>8206.7</td>\n",
       "      <td>8176.7</td>\n",
       "      <td>8185.6</td>\n",
       "    </tr>\n",
       "    <tr>\n",
       "      <th>2025-03-07 22:00:00</th>\n",
       "      <td>8185.1</td>\n",
       "      <td>8203.7</td>\n",
       "      <td>8168.6</td>\n",
       "      <td>8189.3</td>\n",
       "    </tr>\n",
       "    <tr>\n",
       "      <th>2025-03-07 23:00:00</th>\n",
       "      <td>8195.8</td>\n",
       "      <td>8196.8</td>\n",
       "      <td>8176.8</td>\n",
       "      <td>8190.3</td>\n",
       "    </tr>\n",
       "  </tbody>\n",
       "</table>\n",
       "</div>"
      ],
      "text/plain": [
       "                       OPEN    HIGH     LOW   CLOSE\n",
       "DATETIME                                           \n",
       "2025-03-07 19:00:00  8113.7  8173.0  8101.6  8148.7\n",
       "2025-03-07 20:00:00  8149.2  8188.7  8148.6  8188.2\n",
       "2025-03-07 21:00:00  8187.7  8206.7  8176.7  8185.6\n",
       "2025-03-07 22:00:00  8185.1  8203.7  8168.6  8189.3\n",
       "2025-03-07 23:00:00  8195.8  8196.8  8176.8  8190.3"
      ]
     },
     "execution_count": 14,
     "metadata": {},
     "output_type": "execute_result"
    }
   ],
   "source": [
    "base_df = pd.read_csv('../../../FRA40_H1_202403_2025.csv', sep='\\t', usecols=['<DATE>', '<TIME>', '<OPEN>', '<HIGH>', '<LOW>', '<CLOSE>'])\n",
    "# base_df = pd.read_csv('../../../EURUSD_H1_202403_2025.csv', sep='\\t', usecols=['<DATE>', '<TIME>', '<OPEN>', '<HIGH>', '<LOW>', '<CLOSE>'])\n",
    "base_df.rename(columns={\n",
    "    '<OPEN>': 'OPEN', \n",
    "    '<HIGH>': 'HIGH', \n",
    "    '<LOW>': 'LOW', \n",
    "    '<CLOSE>': 'CLOSE'\n",
    "}, inplace=True)\n",
    "\n",
    "base_df = create_ts_from_df(base_df, '<DATE>', '<TIME>', 'DATETIME')\n",
    "base_df.tail()"
   ]
  },
  {
   "cell_type": "code",
   "execution_count": 15,
   "metadata": {},
   "outputs": [
    {
     "data": {
      "text/html": [
       "<div>\n",
       "<style scoped>\n",
       "    .dataframe tbody tr th:only-of-type {\n",
       "        vertical-align: middle;\n",
       "    }\n",
       "\n",
       "    .dataframe tbody tr th {\n",
       "        vertical-align: top;\n",
       "    }\n",
       "\n",
       "    .dataframe thead th {\n",
       "        text-align: right;\n",
       "    }\n",
       "</style>\n",
       "<table border=\"1\" class=\"dataframe\">\n",
       "  <thead>\n",
       "    <tr style=\"text-align: right;\">\n",
       "      <th></th>\n",
       "      <th>OPEN</th>\n",
       "      <th>HIGH</th>\n",
       "      <th>LOW</th>\n",
       "      <th>CLOSE</th>\n",
       "    </tr>\n",
       "    <tr>\n",
       "      <th>DATETIME</th>\n",
       "      <th></th>\n",
       "      <th></th>\n",
       "      <th></th>\n",
       "      <th></th>\n",
       "    </tr>\n",
       "  </thead>\n",
       "  <tbody>\n",
       "    <tr>\n",
       "      <th>2025-03-07 06:00:00</th>\n",
       "      <td>8169.3</td>\n",
       "      <td>8173.8</td>\n",
       "      <td>8164.3</td>\n",
       "      <td>8165.8</td>\n",
       "    </tr>\n",
       "    <tr>\n",
       "      <th>2025-03-07 07:00:00</th>\n",
       "      <td>8165.3</td>\n",
       "      <td>8167.8</td>\n",
       "      <td>8149.3</td>\n",
       "      <td>8152.8</td>\n",
       "    </tr>\n",
       "    <tr>\n",
       "      <th>2025-03-07 08:00:00</th>\n",
       "      <td>8152.8</td>\n",
       "      <td>8153.8</td>\n",
       "      <td>8135.8</td>\n",
       "      <td>8136.8</td>\n",
       "    </tr>\n",
       "    <tr>\n",
       "      <th>2025-03-07 09:00:00</th>\n",
       "      <td>8137.8</td>\n",
       "      <td>8179.7</td>\n",
       "      <td>8133.8</td>\n",
       "      <td>8169.6</td>\n",
       "    </tr>\n",
       "    <tr>\n",
       "      <th>2025-03-07 10:00:00</th>\n",
       "      <td>8173.6</td>\n",
       "      <td>8178.2</td>\n",
       "      <td>8091.7</td>\n",
       "      <td>8107.7</td>\n",
       "    </tr>\n",
       "  </tbody>\n",
       "</table>\n",
       "</div>"
      ],
      "text/plain": [
       "                       OPEN    HIGH     LOW   CLOSE\n",
       "DATETIME                                           \n",
       "2025-03-07 06:00:00  8169.3  8173.8  8164.3  8165.8\n",
       "2025-03-07 07:00:00  8165.3  8167.8  8149.3  8152.8\n",
       "2025-03-07 08:00:00  8152.8  8153.8  8135.8  8136.8\n",
       "2025-03-07 09:00:00  8137.8  8179.7  8133.8  8169.6\n",
       "2025-03-07 10:00:00  8173.6  8178.2  8091.7  8107.7"
      ]
     },
     "execution_count": 15,
     "metadata": {},
     "output_type": "execute_result"
    }
   ],
   "source": [
    "df = base_df.loc[:'2025-03-07 10:00:00']\n",
    "df.tail()"
   ]
  },
  {
   "cell_type": "markdown",
   "metadata": {},
   "source": [
    "# Generate the next close price "
   ]
  },
  {
   "cell_type": "code",
   "execution_count": 16,
   "metadata": {},
   "outputs": [],
   "source": [
    "dataset = TreadingDataset(df[['CLOSE']])\n",
    "dataset.prepare_data()"
   ]
  },
  {
   "cell_type": "code",
   "execution_count": 17,
   "metadata": {},
   "outputs": [
    {
     "name": "stdout",
     "output_type": "stream",
     "text": [
      "\u001b[1m1/1\u001b[0m \u001b[32m━━━━━━━━━━━━━━━━━━━━\u001b[0m\u001b[37m\u001b[0m \u001b[1m0s\u001b[0m 424ms/step\n",
      "\u001b[1m1/1\u001b[0m \u001b[32m━━━━━━━━━━━━━━━━━━━━\u001b[0m\u001b[37m\u001b[0m \u001b[1m0s\u001b[0m 57ms/step\n",
      "\u001b[1m1/1\u001b[0m \u001b[32m━━━━━━━━━━━━━━━━━━━━\u001b[0m\u001b[37m\u001b[0m \u001b[1m0s\u001b[0m 53ms/step\n",
      "\u001b[1m1/1\u001b[0m \u001b[32m━━━━━━━━━━━━━━━━━━━━\u001b[0m\u001b[37m\u001b[0m \u001b[1m0s\u001b[0m 52ms/step\n",
      "\u001b[1m1/1\u001b[0m \u001b[32m━━━━━━━━━━━━━━━━━━━━\u001b[0m\u001b[37m\u001b[0m \u001b[1m0s\u001b[0m 263ms/step\n"
     ]
    },
    {
     "data": {
      "text/html": [
       "<div>\n",
       "<style scoped>\n",
       "    .dataframe tbody tr th:only-of-type {\n",
       "        vertical-align: middle;\n",
       "    }\n",
       "\n",
       "    .dataframe tbody tr th {\n",
       "        vertical-align: top;\n",
       "    }\n",
       "\n",
       "    .dataframe thead th {\n",
       "        text-align: right;\n",
       "    }\n",
       "</style>\n",
       "<table border=\"1\" class=\"dataframe\">\n",
       "  <thead>\n",
       "    <tr style=\"text-align: right;\">\n",
       "      <th></th>\n",
       "      <th>ENTRY_PRICE</th>\n",
       "      <th>PREDICTED_CLOSE</th>\n",
       "    </tr>\n",
       "  </thead>\n",
       "  <tbody>\n",
       "    <tr>\n",
       "      <th>2025-03-07 11:00:00</th>\n",
       "      <td>8107.700000</td>\n",
       "      <td>8140.788574</td>\n",
       "    </tr>\n",
       "    <tr>\n",
       "      <th>2025-03-07 12:00:00</th>\n",
       "      <td>8140.788574</td>\n",
       "      <td>8172.411133</td>\n",
       "    </tr>\n",
       "    <tr>\n",
       "      <th>2025-03-07 13:00:00</th>\n",
       "      <td>8172.411133</td>\n",
       "      <td>8116.958008</td>\n",
       "    </tr>\n",
       "    <tr>\n",
       "      <th>2025-03-07 14:00:00</th>\n",
       "      <td>8116.958008</td>\n",
       "      <td>8144.250977</td>\n",
       "    </tr>\n",
       "    <tr>\n",
       "      <th>2025-03-07 15:00:00</th>\n",
       "      <td>8144.250977</td>\n",
       "      <td>8175.488281</td>\n",
       "    </tr>\n",
       "  </tbody>\n",
       "</table>\n",
       "</div>"
      ],
      "text/plain": [
       "                     ENTRY_PRICE  PREDICTED_CLOSE\n",
       "2025-03-07 11:00:00  8107.700000      8140.788574\n",
       "2025-03-07 12:00:00  8140.788574      8172.411133\n",
       "2025-03-07 13:00:00  8172.411133      8116.958008\n",
       "2025-03-07 14:00:00  8116.958008      8144.250977\n",
       "2025-03-07 15:00:00  8144.250977      8175.488281"
      ]
     },
     "execution_count": 17,
     "metadata": {},
     "output_type": "execute_result"
    }
   ],
   "source": [
    "last_prev_lines = dataset.feature_sequence[-1]\n",
    "tk = PredictorToolkit(dataset.target_scaler, model, SEQUENCE_LENGTH)\n",
    "\n",
    "for _ in range(5):\n",
    "    last_prev_lines = dataset.feature_sequence[-1]\n",
    "    entry_price = dataset.df[['CLOSE']].iloc[-1:].values[0][0]\n",
    "    new_df = tk.predict_the_next_price(dataset.df[['CLOSE']], entry_price, last_prev_lines)\n",
    "    dataset.update_df(new_df)\n",
    "\n",
    "dataset.calculate_atr(base_df, period=14)\n",
    "tk.predict_df"
   ]
  },
  {
   "cell_type": "markdown",
   "metadata": {},
   "source": [
    "# Make the trade strategy"
   ]
  },
  {
   "cell_type": "markdown",
   "metadata": {},
   "source": [
    "## Stratégie avec un ratio perte/gain (Ratio Risk/Reward) de 1:2"
   ]
  },
  {
   "cell_type": "markdown",
   "metadata": {},
   "source": [
    "perte de 10 pips pour gagner 20 pips\n",
    "- Stop-loss pips = 0.0010\n",
    "- Take-profit pips (Stop-loss pips * 2) = 0.0020\n"
   ]
  },
  {
   "cell_type": "code",
   "execution_count": null,
   "metadata": {},
   "outputs": [
    {
     "data": {
      "text/html": [
       "<div>\n",
       "<style scoped>\n",
       "    .dataframe tbody tr th:only-of-type {\n",
       "        vertical-align: middle;\n",
       "    }\n",
       "\n",
       "    .dataframe tbody tr th {\n",
       "        vertical-align: top;\n",
       "    }\n",
       "\n",
       "    .dataframe thead th {\n",
       "        text-align: right;\n",
       "    }\n",
       "</style>\n",
       "<table border=\"1\" class=\"dataframe\">\n",
       "  <thead>\n",
       "    <tr style=\"text-align: right;\">\n",
       "      <th></th>\n",
       "      <th>CLOSE</th>\n",
       "      <th>EMA</th>\n",
       "      <th>RSI</th>\n",
       "      <th>MACD</th>\n",
       "      <th>SIGNAL_LINE</th>\n",
       "      <th>UPPER_BAND</th>\n",
       "      <th>LOWER_BAND</th>\n",
       "      <th>BOLLINGER_PERCENT_B</th>\n",
       "      <th>ATR</th>\n",
       "    </tr>\n",
       "  </thead>\n",
       "  <tbody>\n",
       "    <tr>\n",
       "      <th>2025-03-07 11:00:00</th>\n",
       "      <td>8140.788574</td>\n",
       "      <td>8160.687398</td>\n",
       "      <td>44.684452</td>\n",
       "      <td>-12.456699</td>\n",
       "      <td>-10.111561</td>\n",
       "      <td>8200.447695</td>\n",
       "      <td>8120.611162</td>\n",
       "      <td>0.252734</td>\n",
       "      <td>31.171429</td>\n",
       "    </tr>\n",
       "    <tr>\n",
       "      <th>2025-03-07 12:00:00</th>\n",
       "      <td>8172.411133</td>\n",
       "      <td>8161.803944</td>\n",
       "      <td>52.835088</td>\n",
       "      <td>-9.963488</td>\n",
       "      <td>-10.081947</td>\n",
       "      <td>8200.936159</td>\n",
       "      <td>8123.673812</td>\n",
       "      <td>0.630803</td>\n",
       "      <td>30.242857</td>\n",
       "    </tr>\n",
       "    <tr>\n",
       "      <th>2025-03-07 13:00:00</th>\n",
       "      <td>8116.958008</td>\n",
       "      <td>8157.532902</td>\n",
       "      <td>44.481802</td>\n",
       "      <td>-12.320185</td>\n",
       "      <td>-10.529594</td>\n",
       "      <td>8203.359757</td>\n",
       "      <td>8116.286015</td>\n",
       "      <td>0.007718</td>\n",
       "      <td>29.785714</td>\n",
       "    </tr>\n",
       "    <tr>\n",
       "      <th>2025-03-07 14:00:00</th>\n",
       "      <td>8144.250977</td>\n",
       "      <td>8156.267957</td>\n",
       "      <td>45.499387</td>\n",
       "      <td>-11.848982</td>\n",
       "      <td>-10.793472</td>\n",
       "      <td>8195.292639</td>\n",
       "      <td>8118.298230</td>\n",
       "      <td>0.337073</td>\n",
       "      <td>29.500000</td>\n",
       "    </tr>\n",
       "    <tr>\n",
       "      <th>2025-03-07 15:00:00</th>\n",
       "      <td>8175.488281</td>\n",
       "      <td>8158.098464</td>\n",
       "      <td>50.825838</td>\n",
       "      <td>-8.852910</td>\n",
       "      <td>-10.405360</td>\n",
       "      <td>8196.945120</td>\n",
       "      <td>8118.184577</td>\n",
       "      <td>0.727569</td>\n",
       "      <td>32.771429</td>\n",
       "    </tr>\n",
       "  </tbody>\n",
       "</table>\n",
       "</div>"
      ],
      "text/plain": [
       "                           CLOSE          EMA        RSI       MACD  \\\n",
       "2025-03-07 11:00:00  8140.788574  8160.687398  44.684452 -12.456699   \n",
       "2025-03-07 12:00:00  8172.411133  8161.803944  52.835088  -9.963488   \n",
       "2025-03-07 13:00:00  8116.958008  8157.532902  44.481802 -12.320185   \n",
       "2025-03-07 14:00:00  8144.250977  8156.267957  45.499387 -11.848982   \n",
       "2025-03-07 15:00:00  8175.488281  8158.098464  50.825838  -8.852910   \n",
       "\n",
       "                     SIGNAL_LINE   UPPER_BAND   LOWER_BAND  \\\n",
       "2025-03-07 11:00:00   -10.111561  8200.447695  8120.611162   \n",
       "2025-03-07 12:00:00   -10.081947  8200.936159  8123.673812   \n",
       "2025-03-07 13:00:00   -10.529594  8203.359757  8116.286015   \n",
       "2025-03-07 14:00:00   -10.793472  8195.292639  8118.298230   \n",
       "2025-03-07 15:00:00   -10.405360  8196.945120  8118.184577   \n",
       "\n",
       "                     BOLLINGER_PERCENT_B        ATR  \n",
       "2025-03-07 11:00:00             0.252734  31.171429  \n",
       "2025-03-07 12:00:00             0.630803  30.242857  \n",
       "2025-03-07 13:00:00             0.007718  29.785714  \n",
       "2025-03-07 14:00:00             0.337073  29.500000  \n",
       "2025-03-07 15:00:00             0.727569  32.771429  "
      ]
     },
     "execution_count": 18,
     "metadata": {},
     "output_type": "execute_result"
    }
   ],
   "source": [
    "dataset.df.tail()"
   ]
  },
  {
   "cell_type": "code",
   "execution_count": 19,
   "metadata": {},
   "outputs": [
    {
     "data": {
      "text/html": [
       "<div>\n",
       "<style scoped>\n",
       "    .dataframe tbody tr th:only-of-type {\n",
       "        vertical-align: middle;\n",
       "    }\n",
       "\n",
       "    .dataframe tbody tr th {\n",
       "        vertical-align: top;\n",
       "    }\n",
       "\n",
       "    .dataframe thead th {\n",
       "        text-align: right;\n",
       "    }\n",
       "</style>\n",
       "<table border=\"1\" class=\"dataframe\">\n",
       "  <thead>\n",
       "    <tr style=\"text-align: right;\">\n",
       "      <th></th>\n",
       "      <th>ENTRY_PRICE</th>\n",
       "      <th>PREDICTED_CLOSE</th>\n",
       "      <th>POSITION</th>\n",
       "      <th>STOP_LOSS</th>\n",
       "      <th>TAKE_PROFIT</th>\n",
       "    </tr>\n",
       "  </thead>\n",
       "  <tbody>\n",
       "    <tr>\n",
       "      <th>2025-03-07 11:00:00</th>\n",
       "      <td>8107.700000</td>\n",
       "      <td>8140.788574</td>\n",
       "      <td>BUY</td>\n",
       "      <td>8130.788574</td>\n",
       "      <td>8160.788574</td>\n",
       "    </tr>\n",
       "    <tr>\n",
       "      <th>2025-03-07 12:00:00</th>\n",
       "      <td>8140.788574</td>\n",
       "      <td>8172.411133</td>\n",
       "      <td>BUY</td>\n",
       "      <td>8157.411133</td>\n",
       "      <td>8202.411133</td>\n",
       "    </tr>\n",
       "    <tr>\n",
       "      <th>2025-03-07 13:00:00</th>\n",
       "      <td>8172.411133</td>\n",
       "      <td>8116.958008</td>\n",
       "      <td>SELL</td>\n",
       "      <td>8126.958008</td>\n",
       "      <td>8096.958008</td>\n",
       "    </tr>\n",
       "    <tr>\n",
       "      <th>2025-03-07 14:00:00</th>\n",
       "      <td>8116.958008</td>\n",
       "      <td>8144.250977</td>\n",
       "      <td>BUY</td>\n",
       "      <td>8134.250977</td>\n",
       "      <td>8164.250977</td>\n",
       "    </tr>\n",
       "    <tr>\n",
       "      <th>2025-03-07 15:00:00</th>\n",
       "      <td>8144.250977</td>\n",
       "      <td>8175.488281</td>\n",
       "      <td>BUY</td>\n",
       "      <td>8160.488281</td>\n",
       "      <td>8205.488281</td>\n",
       "    </tr>\n",
       "  </tbody>\n",
       "</table>\n",
       "</div>"
      ],
      "text/plain": [
       "                     ENTRY_PRICE  PREDICTED_CLOSE POSITION    STOP_LOSS  \\\n",
       "2025-03-07 11:00:00  8107.700000      8140.788574      BUY  8130.788574   \n",
       "2025-03-07 12:00:00  8140.788574      8172.411133      BUY  8157.411133   \n",
       "2025-03-07 13:00:00  8172.411133      8116.958008     SELL  8126.958008   \n",
       "2025-03-07 14:00:00  8116.958008      8144.250977      BUY  8134.250977   \n",
       "2025-03-07 15:00:00  8144.250977      8175.488281      BUY  8160.488281   \n",
       "\n",
       "                     TAKE_PROFIT  \n",
       "2025-03-07 11:00:00  8160.788574  \n",
       "2025-03-07 12:00:00  8202.411133  \n",
       "2025-03-07 13:00:00  8096.958008  \n",
       "2025-03-07 14:00:00  8164.250977  \n",
       "2025-03-07 15:00:00  8205.488281  "
      ]
     },
     "execution_count": 19,
     "metadata": {},
     "output_type": "execute_result"
    }
   ],
   "source": [
    "strategy = TradeStrategy(tk.predict_df, 'CAC40', 2)\n",
    "strategy.run(dataset.df)\n",
    "strategy.df"
   ]
  },
  {
   "cell_type": "markdown",
   "metadata": {},
   "source": [
    "# Backtesting du model"
   ]
  },
  {
   "cell_type": "code",
   "execution_count": 20,
   "metadata": {},
   "outputs": [
    {
     "data": {
      "text/html": [
       "<div>\n",
       "<style scoped>\n",
       "    .dataframe tbody tr th:only-of-type {\n",
       "        vertical-align: middle;\n",
       "    }\n",
       "\n",
       "    .dataframe tbody tr th {\n",
       "        vertical-align: top;\n",
       "    }\n",
       "\n",
       "    .dataframe thead th {\n",
       "        text-align: right;\n",
       "    }\n",
       "</style>\n",
       "<table border=\"1\" class=\"dataframe\">\n",
       "  <thead>\n",
       "    <tr style=\"text-align: right;\">\n",
       "      <th></th>\n",
       "      <th>CLOSE</th>\n",
       "      <th>ENTRY_PRICE</th>\n",
       "      <th>PREDICTED_CLOSE</th>\n",
       "      <th>POSITION</th>\n",
       "      <th>STOP_LOSS</th>\n",
       "      <th>TAKE_PROFIT</th>\n",
       "      <th>ATR</th>\n",
       "      <th>HIGH</th>\n",
       "      <th>LOW</th>\n",
       "    </tr>\n",
       "  </thead>\n",
       "  <tbody>\n",
       "    <tr>\n",
       "      <th>2025-03-07 11:00:00</th>\n",
       "      <td>8138.7</td>\n",
       "      <td>8107.700000</td>\n",
       "      <td>8140.788574</td>\n",
       "      <td>BUY</td>\n",
       "      <td>8130.788574</td>\n",
       "      <td>8160.788574</td>\n",
       "      <td>31.171429</td>\n",
       "      <td>8150.7</td>\n",
       "      <td>8096.0</td>\n",
       "    </tr>\n",
       "    <tr>\n",
       "      <th>2025-03-07 12:00:00</th>\n",
       "      <td>8108.5</td>\n",
       "      <td>8140.788574</td>\n",
       "      <td>8172.411133</td>\n",
       "      <td>BUY</td>\n",
       "      <td>8157.411133</td>\n",
       "      <td>8202.411133</td>\n",
       "      <td>30.242857</td>\n",
       "      <td>8139.7</td>\n",
       "      <td>8103.7</td>\n",
       "    </tr>\n",
       "    <tr>\n",
       "      <th>2025-03-07 13:00:00</th>\n",
       "      <td>8116.5</td>\n",
       "      <td>8172.411133</td>\n",
       "      <td>8116.958008</td>\n",
       "      <td>SELL</td>\n",
       "      <td>8126.958008</td>\n",
       "      <td>8096.958008</td>\n",
       "      <td>29.785714</td>\n",
       "      <td>8128.7</td>\n",
       "      <td>8102.0</td>\n",
       "    </tr>\n",
       "    <tr>\n",
       "      <th>2025-03-07 14:00:00</th>\n",
       "      <td>8105.2</td>\n",
       "      <td>8116.958008</td>\n",
       "      <td>8144.250977</td>\n",
       "      <td>BUY</td>\n",
       "      <td>8134.250977</td>\n",
       "      <td>8164.250977</td>\n",
       "      <td>29.500000</td>\n",
       "      <td>8126.2</td>\n",
       "      <td>8092.2</td>\n",
       "    </tr>\n",
       "    <tr>\n",
       "      <th>2025-03-07 15:00:00</th>\n",
       "      <td>8078.9</td>\n",
       "      <td>8144.250977</td>\n",
       "      <td>8175.488281</td>\n",
       "      <td>BUY</td>\n",
       "      <td>8160.488281</td>\n",
       "      <td>8205.488281</td>\n",
       "      <td>32.771429</td>\n",
       "      <td>8131.2</td>\n",
       "      <td>8073.7</td>\n",
       "    </tr>\n",
       "  </tbody>\n",
       "</table>\n",
       "</div>"
      ],
      "text/plain": [
       "                      CLOSE  ENTRY_PRICE  PREDICTED_CLOSE POSITION  \\\n",
       "2025-03-07 11:00:00  8138.7  8107.700000      8140.788574      BUY   \n",
       "2025-03-07 12:00:00  8108.5  8140.788574      8172.411133      BUY   \n",
       "2025-03-07 13:00:00  8116.5  8172.411133      8116.958008     SELL   \n",
       "2025-03-07 14:00:00  8105.2  8116.958008      8144.250977      BUY   \n",
       "2025-03-07 15:00:00  8078.9  8144.250977      8175.488281      BUY   \n",
       "\n",
       "                       STOP_LOSS  TAKE_PROFIT        ATR    HIGH     LOW  \n",
       "2025-03-07 11:00:00  8130.788574  8160.788574  31.171429  8150.7  8096.0  \n",
       "2025-03-07 12:00:00  8157.411133  8202.411133  30.242857  8139.7  8103.7  \n",
       "2025-03-07 13:00:00  8126.958008  8096.958008  29.785714  8128.7  8102.0  \n",
       "2025-03-07 14:00:00  8134.250977  8164.250977  29.500000  8126.2  8092.2  \n",
       "2025-03-07 15:00:00  8160.488281  8205.488281  32.771429  8131.2  8073.7  "
      ]
     },
     "execution_count": 20,
     "metadata": {},
     "output_type": "execute_result"
    }
   ],
   "source": [
    "backtest_data = base_df[['CLOSE']].merge(\n",
    "    strategy.df, left_index=True, right_index=True\n",
    "    ).merge(dataset.df[['ATR']], left_index=True, right_index=True)\n",
    "backtest_data.merge(base_df[['HIGH', 'LOW']], left_index=True, right_index=True, how='inner')"
   ]
  },
  {
   "cell_type": "code",
   "execution_count": 21,
   "metadata": {},
   "outputs": [
    {
     "name": "stdout",
     "output_type": "stream",
     "text": [
      "Métriques de performance :\n",
      "total_trades: 5\n",
      "winning_trades: 5\n",
      "losing_trades: 0\n",
      "win_rate: 1.0\n",
      "net_profit: 137.06396484375\n",
      "average_profit: 27.41279296875\n",
      "sharpe_ratio: 1.603694157902502\n"
     ]
    }
   ],
   "source": [
    "backtester = Backtester(backtest_data)\n",
    "backtester.simulate_trades()\n",
    "performance_metrics = backtester.calculate_performance_metrics()\n",
    "\n",
    "print(\"Métriques de performance :\")\n",
    "for key, value in performance_metrics.items():\n",
    "    print(f\"{key}: {value}\")"
   ]
  },
  {
   "cell_type": "code",
   "execution_count": 22,
   "metadata": {},
   "outputs": [
    {
     "name": "stdout",
     "output_type": "stream",
     "text": [
      "Meilleurs multiplicateurs : (1.0, 1.5)\n",
      "Métriques associées : {'total_trades': 5, 'winning_trades': 3, 'losing_trades': 2, 'win_rate': 0.6, 'net_profit': 84.5496791294645, 'average_profit': 16.909935825892898, 'sharpe_ratio': 0.6549452102338501}\n"
     ]
    }
   ],
   "source": [
    "# Test de différents multiplicateurs\n",
    "multipliers = [(1.0, 1.5), (1.5, 2.0), (2.0, 2.5)]\n",
    "\n",
    "best_metrics = None\n",
    "best_multipliers = None\n",
    "\n",
    "for stop_loss_multiplier, take_profit_multiplier in multipliers:\n",
    "    # Appliquez les multiplicateurs et recalculez les stop-loss et take-profit\n",
    "    backtest_data['STOP_LOSS'] = backtest_data.apply(\n",
    "        lambda row: row[\"PREDICTED_CLOSE\"] + (stop_loss_multiplier * row['ATR'])\n",
    "            if row[\"POSITION\"] == \"SELL\"\n",
    "            else row[\"PREDICTED_CLOSE\"] - (stop_loss_multiplier * row['ATR']),\n",
    "        axis=1\n",
    "    )\n",
    "    backtest_data['TAKE_PROFIT'] = backtest_data.apply(\n",
    "        lambda row: row[\"PREDICTED_CLOSE\"] - (take_profit_multiplier * row['ATR'])\n",
    "            if row[\"POSITION\"] == \"SELL\"\n",
    "            else row[\"PREDICTED_CLOSE\"] + (take_profit_multiplier * row['ATR']),\n",
    "        axis=1\n",
    "    )\n",
    "\n",
    "    # Simule les trades et calcule les métriques\n",
    "    backtester = Backtester(backtest_data)\n",
    "    backtester.simulate_trades()\n",
    "    metrics = backtester.calculate_performance_metrics()\n",
    "\n",
    "    # Compare les métriques pour trouver les meilleurs paramètres\n",
    "    if best_metrics is None or metrics['net_profit'] > best_metrics['net_profit']:\n",
    "        best_metrics = metrics\n",
    "        best_multipliers = (stop_loss_multiplier, take_profit_multiplier)\n",
    "\n",
    "print(\"Meilleurs multiplicateurs :\", best_multipliers)\n",
    "print(\"Métriques associées :\", best_metrics)"
   ]
  }
 ],
 "metadata": {
  "kernelspec": {
   "display_name": ".venv",
   "language": "python",
   "name": "python3"
  },
  "language_info": {
   "codemirror_mode": {
    "name": "ipython",
    "version": 3
   },
   "file_extension": ".py",
   "mimetype": "text/x-python",
   "name": "python",
   "nbconvert_exporter": "python",
   "pygments_lexer": "ipython3",
   "version": "3.10.0"
  }
 },
 "nbformat": 4,
 "nbformat_minor": 2
}
