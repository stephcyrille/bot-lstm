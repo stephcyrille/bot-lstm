{
 "cells": [
  {
   "cell_type": "code",
   "execution_count": 26,
   "metadata": {},
   "outputs": [],
   "source": [
    "import sys\n",
    "sys.path.append('../../../')\n",
    "\n",
    "import pandas as pd\n",
    "\n",
    "import keras\n",
    "\n",
    "from utils.predictor import PredictorToolkit\n",
    "from utils.dataset import TreadingDataset\n",
    "from utils.strategy import TradeStrategy\n",
    "from utils.backtester import Backtester\n",
    "from utils.field_processing import create_ts_from_df\n",
    "import warnings\n",
    "\n",
    "warnings.filterwarnings('ignore')"
   ]
  },
  {
   "cell_type": "code",
   "execution_count": 2,
   "metadata": {},
   "outputs": [],
   "source": [
    "SEQUENCE_LENGTH = 9\n",
    "SHIFT_SIZE = 3"
   ]
  },
  {
   "cell_type": "markdown",
   "metadata": {},
   "source": [
    "# Loading the model"
   ]
  },
  {
   "cell_type": "code",
   "execution_count": 13,
   "metadata": {},
   "outputs": [
    {
     "data": {
      "text/html": [
       "<pre style=\"white-space:pre;overflow-x:auto;line-height:normal;font-family:Menlo,'DejaVu Sans Mono',consolas,'Courier New',monospace\"><span style=\"font-weight: bold\">Model: \"sequential\"</span>\n",
       "</pre>\n"
      ],
      "text/plain": [
       "\u001b[1mModel: \"sequential\"\u001b[0m\n"
      ]
     },
     "metadata": {},
     "output_type": "display_data"
    },
    {
     "data": {
      "text/html": [
       "<pre style=\"white-space:pre;overflow-x:auto;line-height:normal;font-family:Menlo,'DejaVu Sans Mono',consolas,'Courier New',monospace\">┏━━━━━━━━━━━━━━━━━━━━━━━━━━━━━━━━━┳━━━━━━━━━━━━━━━━━━━━━━━━┳━━━━━━━━━━━━━━━┓\n",
       "┃<span style=\"font-weight: bold\"> Layer (type)                    </span>┃<span style=\"font-weight: bold\"> Output Shape           </span>┃<span style=\"font-weight: bold\">       Param # </span>┃\n",
       "┡━━━━━━━━━━━━━━━━━━━━━━━━━━━━━━━━━╇━━━━━━━━━━━━━━━━━━━━━━━━╇━━━━━━━━━━━━━━━┩\n",
       "│ lstm (<span style=\"color: #0087ff; text-decoration-color: #0087ff\">LSTM</span>)                     │ (<span style=\"color: #00d7ff; text-decoration-color: #00d7ff\">None</span>, <span style=\"color: #00af00; text-decoration-color: #00af00\">512</span>)            │     <span style=\"color: #00af00; text-decoration-color: #00af00\">1,099,776</span> │\n",
       "├─────────────────────────────────┼────────────────────────┼───────────────┤\n",
       "│ dense (<span style=\"color: #0087ff; text-decoration-color: #0087ff\">Dense</span>)                   │ (<span style=\"color: #00d7ff; text-decoration-color: #00d7ff\">None</span>, <span style=\"color: #00af00; text-decoration-color: #00af00\">8</span>)              │         <span style=\"color: #00af00; text-decoration-color: #00af00\">4,104</span> │\n",
       "├─────────────────────────────────┼────────────────────────┼───────────────┤\n",
       "│ dense_1 (<span style=\"color: #0087ff; text-decoration-color: #0087ff\">Dense</span>)                 │ (<span style=\"color: #00d7ff; text-decoration-color: #00d7ff\">None</span>, <span style=\"color: #00af00; text-decoration-color: #00af00\">1</span>)              │             <span style=\"color: #00af00; text-decoration-color: #00af00\">9</span> │\n",
       "└─────────────────────────────────┴────────────────────────┴───────────────┘\n",
       "</pre>\n"
      ],
      "text/plain": [
       "┏━━━━━━━━━━━━━━━━━━━━━━━━━━━━━━━━━┳━━━━━━━━━━━━━━━━━━━━━━━━┳━━━━━━━━━━━━━━━┓\n",
       "┃\u001b[1m \u001b[0m\u001b[1mLayer (type)                   \u001b[0m\u001b[1m \u001b[0m┃\u001b[1m \u001b[0m\u001b[1mOutput Shape          \u001b[0m\u001b[1m \u001b[0m┃\u001b[1m \u001b[0m\u001b[1m      Param #\u001b[0m\u001b[1m \u001b[0m┃\n",
       "┡━━━━━━━━━━━━━━━━━━━━━━━━━━━━━━━━━╇━━━━━━━━━━━━━━━━━━━━━━━━╇━━━━━━━━━━━━━━━┩\n",
       "│ lstm (\u001b[38;5;33mLSTM\u001b[0m)                     │ (\u001b[38;5;45mNone\u001b[0m, \u001b[38;5;34m512\u001b[0m)            │     \u001b[38;5;34m1,099,776\u001b[0m │\n",
       "├─────────────────────────────────┼────────────────────────┼───────────────┤\n",
       "│ dense (\u001b[38;5;33mDense\u001b[0m)                   │ (\u001b[38;5;45mNone\u001b[0m, \u001b[38;5;34m8\u001b[0m)              │         \u001b[38;5;34m4,104\u001b[0m │\n",
       "├─────────────────────────────────┼────────────────────────┼───────────────┤\n",
       "│ dense_1 (\u001b[38;5;33mDense\u001b[0m)                 │ (\u001b[38;5;45mNone\u001b[0m, \u001b[38;5;34m1\u001b[0m)              │             \u001b[38;5;34m9\u001b[0m │\n",
       "└─────────────────────────────────┴────────────────────────┴───────────────┘\n"
      ]
     },
     "metadata": {},
     "output_type": "display_data"
    },
    {
     "data": {
      "text/html": [
       "<pre style=\"white-space:pre;overflow-x:auto;line-height:normal;font-family:Menlo,'DejaVu Sans Mono',consolas,'Courier New',monospace\"><span style=\"font-weight: bold\"> Total params: </span><span style=\"color: #00af00; text-decoration-color: #00af00\">3,311,669</span> (12.63 MB)\n",
       "</pre>\n"
      ],
      "text/plain": [
       "\u001b[1m Total params: \u001b[0m\u001b[38;5;34m3,311,669\u001b[0m (12.63 MB)\n"
      ]
     },
     "metadata": {},
     "output_type": "display_data"
    },
    {
     "data": {
      "text/html": [
       "<pre style=\"white-space:pre;overflow-x:auto;line-height:normal;font-family:Menlo,'DejaVu Sans Mono',consolas,'Courier New',monospace\"><span style=\"font-weight: bold\"> Trainable params: </span><span style=\"color: #00af00; text-decoration-color: #00af00\">1,103,889</span> (4.21 MB)\n",
       "</pre>\n"
      ],
      "text/plain": [
       "\u001b[1m Trainable params: \u001b[0m\u001b[38;5;34m1,103,889\u001b[0m (4.21 MB)\n"
      ]
     },
     "metadata": {},
     "output_type": "display_data"
    },
    {
     "data": {
      "text/html": [
       "<pre style=\"white-space:pre;overflow-x:auto;line-height:normal;font-family:Menlo,'DejaVu Sans Mono',consolas,'Courier New',monospace\"><span style=\"font-weight: bold\"> Non-trainable params: </span><span style=\"color: #00af00; text-decoration-color: #00af00\">0</span> (0.00 B)\n",
       "</pre>\n"
      ],
      "text/plain": [
       "\u001b[1m Non-trainable params: \u001b[0m\u001b[38;5;34m0\u001b[0m (0.00 B)\n"
      ]
     },
     "metadata": {},
     "output_type": "display_data"
    },
    {
     "data": {
      "text/html": [
       "<pre style=\"white-space:pre;overflow-x:auto;line-height:normal;font-family:Menlo,'DejaVu Sans Mono',consolas,'Courier New',monospace\"><span style=\"font-weight: bold\"> Optimizer params: </span><span style=\"color: #00af00; text-decoration-color: #00af00\">2,207,780</span> (8.42 MB)\n",
       "</pre>\n"
      ],
      "text/plain": [
       "\u001b[1m Optimizer params: \u001b[0m\u001b[38;5;34m2,207,780\u001b[0m (8.42 MB)\n"
      ]
     },
     "metadata": {},
     "output_type": "display_data"
    }
   ],
   "source": [
    "model = keras.models.load_model('../../../models/test/best_model_EURUSD.keras')\n",
    "model.summary()"
   ]
  },
  {
   "cell_type": "markdown",
   "metadata": {},
   "source": [
    "# Loading the previous sequences"
   ]
  },
  {
   "cell_type": "code",
   "execution_count": 14,
   "metadata": {},
   "outputs": [
    {
     "data": {
      "text/html": [
       "<div>\n",
       "<style scoped>\n",
       "    .dataframe tbody tr th:only-of-type {\n",
       "        vertical-align: middle;\n",
       "    }\n",
       "\n",
       "    .dataframe tbody tr th {\n",
       "        vertical-align: top;\n",
       "    }\n",
       "\n",
       "    .dataframe thead th {\n",
       "        text-align: right;\n",
       "    }\n",
       "</style>\n",
       "<table border=\"1\" class=\"dataframe\">\n",
       "  <thead>\n",
       "    <tr style=\"text-align: right;\">\n",
       "      <th></th>\n",
       "      <th>OPEN</th>\n",
       "      <th>HIGH</th>\n",
       "      <th>LOW</th>\n",
       "      <th>CLOSE</th>\n",
       "    </tr>\n",
       "    <tr>\n",
       "      <th>DATETIME</th>\n",
       "      <th></th>\n",
       "      <th></th>\n",
       "      <th></th>\n",
       "      <th></th>\n",
       "    </tr>\n",
       "  </thead>\n",
       "  <tbody>\n",
       "    <tr>\n",
       "      <th>2025-03-07 19:00:00</th>\n",
       "      <td>1.08589</td>\n",
       "      <td>1.08644</td>\n",
       "      <td>1.08319</td>\n",
       "      <td>1.08434</td>\n",
       "    </tr>\n",
       "    <tr>\n",
       "      <th>2025-03-07 20:00:00</th>\n",
       "      <td>1.08432</td>\n",
       "      <td>1.08442</td>\n",
       "      <td>1.08256</td>\n",
       "      <td>1.08398</td>\n",
       "    </tr>\n",
       "    <tr>\n",
       "      <th>2025-03-07 21:00:00</th>\n",
       "      <td>1.08397</td>\n",
       "      <td>1.08440</td>\n",
       "      <td>1.08333</td>\n",
       "      <td>1.08425</td>\n",
       "    </tr>\n",
       "    <tr>\n",
       "      <th>2025-03-07 22:00:00</th>\n",
       "      <td>1.08424</td>\n",
       "      <td>1.08492</td>\n",
       "      <td>1.08399</td>\n",
       "      <td>1.08462</td>\n",
       "    </tr>\n",
       "    <tr>\n",
       "      <th>2025-03-07 23:00:00</th>\n",
       "      <td>1.08461</td>\n",
       "      <td>1.08506</td>\n",
       "      <td>1.08320</td>\n",
       "      <td>1.08325</td>\n",
       "    </tr>\n",
       "  </tbody>\n",
       "</table>\n",
       "</div>"
      ],
      "text/plain": [
       "                        OPEN     HIGH      LOW    CLOSE\n",
       "DATETIME                                               \n",
       "2025-03-07 19:00:00  1.08589  1.08644  1.08319  1.08434\n",
       "2025-03-07 20:00:00  1.08432  1.08442  1.08256  1.08398\n",
       "2025-03-07 21:00:00  1.08397  1.08440  1.08333  1.08425\n",
       "2025-03-07 22:00:00  1.08424  1.08492  1.08399  1.08462\n",
       "2025-03-07 23:00:00  1.08461  1.08506  1.08320  1.08325"
      ]
     },
     "execution_count": 14,
     "metadata": {},
     "output_type": "execute_result"
    }
   ],
   "source": [
    "base_df = pd.read_csv('../../../btc_last_test.csv', sep='\\t', usecols=['<DATE>', '<TIME>', '<OPEN>', '<HIGH>', '<LOW>', '<CLOSE>'])\n",
    "# base_df = pd.read_csv('../../../EURUSD_H1_202403_2025.csv', sep='\\t', usecols=['<DATE>', '<TIME>', '<OPEN>', '<HIGH>', '<LOW>', '<CLOSE>'])\n",
    "base_df.rename(columns={\n",
    "    '<OPEN>': 'OPEN', \n",
    "    '<HIGH>': 'HIGH', \n",
    "    '<LOW>': 'LOW', \n",
    "    '<CLOSE>': 'CLOSE'\n",
    "}, inplace=True)\n",
    "\n",
    "base_df = create_ts_from_df(base_df, '<DATE>', '<TIME>', 'DATETIME')\n",
    "base_df.tail()"
   ]
  },
  {
   "cell_type": "code",
   "execution_count": 18,
   "metadata": {},
   "outputs": [
    {
     "data": {
      "text/html": [
       "<div>\n",
       "<style scoped>\n",
       "    .dataframe tbody tr th:only-of-type {\n",
       "        vertical-align: middle;\n",
       "    }\n",
       "\n",
       "    .dataframe tbody tr th {\n",
       "        vertical-align: top;\n",
       "    }\n",
       "\n",
       "    .dataframe thead th {\n",
       "        text-align: right;\n",
       "    }\n",
       "</style>\n",
       "<table border=\"1\" class=\"dataframe\">\n",
       "  <thead>\n",
       "    <tr style=\"text-align: right;\">\n",
       "      <th></th>\n",
       "      <th>OPEN</th>\n",
       "      <th>HIGH</th>\n",
       "      <th>LOW</th>\n",
       "      <th>CLOSE</th>\n",
       "    </tr>\n",
       "    <tr>\n",
       "      <th>DATETIME</th>\n",
       "      <th></th>\n",
       "      <th></th>\n",
       "      <th></th>\n",
       "      <th></th>\n",
       "    </tr>\n",
       "  </thead>\n",
       "  <tbody>\n",
       "    <tr>\n",
       "      <th>2025-03-07 19:00:00</th>\n",
       "      <td>1.08589</td>\n",
       "      <td>1.08644</td>\n",
       "      <td>1.08319</td>\n",
       "      <td>1.08434</td>\n",
       "    </tr>\n",
       "    <tr>\n",
       "      <th>2025-03-07 20:00:00</th>\n",
       "      <td>1.08432</td>\n",
       "      <td>1.08442</td>\n",
       "      <td>1.08256</td>\n",
       "      <td>1.08398</td>\n",
       "    </tr>\n",
       "    <tr>\n",
       "      <th>2025-03-07 21:00:00</th>\n",
       "      <td>1.08397</td>\n",
       "      <td>1.08440</td>\n",
       "      <td>1.08333</td>\n",
       "      <td>1.08425</td>\n",
       "    </tr>\n",
       "    <tr>\n",
       "      <th>2025-03-07 22:00:00</th>\n",
       "      <td>1.08424</td>\n",
       "      <td>1.08492</td>\n",
       "      <td>1.08399</td>\n",
       "      <td>1.08462</td>\n",
       "    </tr>\n",
       "    <tr>\n",
       "      <th>2025-03-07 23:00:00</th>\n",
       "      <td>1.08461</td>\n",
       "      <td>1.08506</td>\n",
       "      <td>1.08320</td>\n",
       "      <td>1.08325</td>\n",
       "    </tr>\n",
       "  </tbody>\n",
       "</table>\n",
       "</div>"
      ],
      "text/plain": [
       "                        OPEN     HIGH      LOW    CLOSE\n",
       "DATETIME                                               \n",
       "2025-03-07 19:00:00  1.08589  1.08644  1.08319  1.08434\n",
       "2025-03-07 20:00:00  1.08432  1.08442  1.08256  1.08398\n",
       "2025-03-07 21:00:00  1.08397  1.08440  1.08333  1.08425\n",
       "2025-03-07 22:00:00  1.08424  1.08492  1.08399  1.08462\n",
       "2025-03-07 23:00:00  1.08461  1.08506  1.08320  1.08325"
      ]
     },
     "execution_count": 18,
     "metadata": {},
     "output_type": "execute_result"
    }
   ],
   "source": [
    "df = base_df.loc[:'2025-03-09 15:00:00']\n",
    "df.tail()"
   ]
  },
  {
   "cell_type": "markdown",
   "metadata": {},
   "source": [
    "# Generate the next close price "
   ]
  },
  {
   "cell_type": "code",
   "execution_count": 24,
   "metadata": {},
   "outputs": [],
   "source": [
    "dataset = TreadingDataset(df[['CLOSE']])\n",
    "dataset.prepare_data()"
   ]
  },
  {
   "cell_type": "code",
   "execution_count": 25,
   "metadata": {},
   "outputs": [
    {
     "name": "stdout",
     "output_type": "stream",
     "text": [
      "\u001b[1m1/1\u001b[0m \u001b[32m━━━━━━━━━━━━━━━━━━━━\u001b[0m\u001b[37m\u001b[0m \u001b[1m0s\u001b[0m 64ms/step\n"
     ]
    },
    {
     "data": {
      "text/html": [
       "<div>\n",
       "<style scoped>\n",
       "    .dataframe tbody tr th:only-of-type {\n",
       "        vertical-align: middle;\n",
       "    }\n",
       "\n",
       "    .dataframe tbody tr th {\n",
       "        vertical-align: top;\n",
       "    }\n",
       "\n",
       "    .dataframe thead th {\n",
       "        text-align: right;\n",
       "    }\n",
       "</style>\n",
       "<table border=\"1\" class=\"dataframe\">\n",
       "  <thead>\n",
       "    <tr style=\"text-align: right;\">\n",
       "      <th></th>\n",
       "      <th>ENTRY_PRICE</th>\n",
       "      <th>PREDICTED_CLOSE</th>\n",
       "    </tr>\n",
       "  </thead>\n",
       "  <tbody>\n",
       "    <tr>\n",
       "      <th>2025-03-08</th>\n",
       "      <td>1.08325</td>\n",
       "      <td>1.083516</td>\n",
       "    </tr>\n",
       "  </tbody>\n",
       "</table>\n",
       "</div>"
      ],
      "text/plain": [
       "            ENTRY_PRICE  PREDICTED_CLOSE\n",
       "2025-03-08      1.08325         1.083516"
      ]
     },
     "execution_count": 25,
     "metadata": {},
     "output_type": "execute_result"
    }
   ],
   "source": [
    "last_prev_lines = dataset.feature_sequence[-1]\n",
    "tk = PredictorToolkit(dataset.target_scaler, model, SEQUENCE_LENGTH)\n",
    "\n",
    "for _ in range(1):\n",
    "    last_prev_lines = dataset.feature_sequence[-1]\n",
    "    entry_price = dataset.df[['CLOSE']].iloc[-1:].values[0][0]\n",
    "    new_df = tk.predict_the_next_price(dataset.df[['CLOSE']], entry_price, last_prev_lines)\n",
    "    dataset.update_df(new_df)\n",
    "\n",
    "dataset.calculate_atr(base_df, period=SEQUENCE_LENGTH)\n",
    "tk.predict_df"
   ]
  },
  {
   "cell_type": "markdown",
   "metadata": {},
   "source": [
    "# Make the trade strategy"
   ]
  },
  {
   "cell_type": "markdown",
   "metadata": {},
   "source": [
    "## Stratégie avec un ratio perte/gain (Ratio Risk/Reward) de 1:2"
   ]
  },
  {
   "cell_type": "markdown",
   "metadata": {},
   "source": [
    "perte de 10 pips pour gagner 20 pips\n",
    "- Stop-loss pips = 0.0010\n",
    "- Take-profit pips (Stop-loss pips * 2) = 0.0020\n"
   ]
  },
  {
   "cell_type": "code",
   "execution_count": 21,
   "metadata": {},
   "outputs": [
    {
     "data": {
      "text/html": [
       "<div>\n",
       "<style scoped>\n",
       "    .dataframe tbody tr th:only-of-type {\n",
       "        vertical-align: middle;\n",
       "    }\n",
       "\n",
       "    .dataframe tbody tr th {\n",
       "        vertical-align: top;\n",
       "    }\n",
       "\n",
       "    .dataframe thead th {\n",
       "        text-align: right;\n",
       "    }\n",
       "</style>\n",
       "<table border=\"1\" class=\"dataframe\">\n",
       "  <thead>\n",
       "    <tr style=\"text-align: right;\">\n",
       "      <th></th>\n",
       "      <th>CLOSE</th>\n",
       "      <th>EMA</th>\n",
       "      <th>RSI</th>\n",
       "      <th>MACD</th>\n",
       "      <th>SIGNAL_LINE</th>\n",
       "      <th>UPPER_BAND</th>\n",
       "      <th>LOWER_BAND</th>\n",
       "      <th>BOLLINGER_PERCENT_B</th>\n",
       "      <th>ATR</th>\n",
       "    </tr>\n",
       "  </thead>\n",
       "  <tbody>\n",
       "    <tr>\n",
       "      <th>2025-03-07 19:00:00</th>\n",
       "      <td>1.08434</td>\n",
       "      <td>1.083537</td>\n",
       "      <td>63.876652</td>\n",
       "      <td>0.001790</td>\n",
       "      <td>0.001785</td>\n",
       "      <td>1.088663</td>\n",
       "      <td>1.077196</td>\n",
       "      <td>0.622998</td>\n",
       "      <td>0.003013</td>\n",
       "    </tr>\n",
       "    <tr>\n",
       "      <th>2025-03-07 20:00:00</th>\n",
       "      <td>1.08398</td>\n",
       "      <td>1.083580</td>\n",
       "      <td>60.150943</td>\n",
       "      <td>0.001611</td>\n",
       "      <td>0.001750</td>\n",
       "      <td>1.088624</td>\n",
       "      <td>1.077728</td>\n",
       "      <td>0.573784</td>\n",
       "      <td>0.002918</td>\n",
       "    </tr>\n",
       "    <tr>\n",
       "      <th>2025-03-07 21:00:00</th>\n",
       "      <td>1.08425</td>\n",
       "      <td>1.083643</td>\n",
       "      <td>60.888889</td>\n",
       "      <td>0.001474</td>\n",
       "      <td>0.001695</td>\n",
       "      <td>1.088499</td>\n",
       "      <td>1.078403</td>\n",
       "      <td>0.579136</td>\n",
       "      <td>0.002926</td>\n",
       "    </tr>\n",
       "    <tr>\n",
       "      <th>2025-03-07 22:00:00</th>\n",
       "      <td>1.08462</td>\n",
       "      <td>1.083736</td>\n",
       "      <td>58.910506</td>\n",
       "      <td>0.001380</td>\n",
       "      <td>0.001632</td>\n",
       "      <td>1.088297</td>\n",
       "      <td>1.079194</td>\n",
       "      <td>0.596069</td>\n",
       "      <td>0.002853</td>\n",
       "    </tr>\n",
       "    <tr>\n",
       "      <th>2025-03-07 23:00:00</th>\n",
       "      <td>1.08325</td>\n",
       "      <td>1.083690</td>\n",
       "      <td>51.066961</td>\n",
       "      <td>0.001180</td>\n",
       "      <td>0.001542</td>\n",
       "      <td>1.087942</td>\n",
       "      <td>1.079972</td>\n",
       "      <td>0.411285</td>\n",
       "      <td>0.002878</td>\n",
       "    </tr>\n",
       "  </tbody>\n",
       "</table>\n",
       "</div>"
      ],
      "text/plain": [
       "                       CLOSE       EMA        RSI      MACD  SIGNAL_LINE  \\\n",
       "2025-03-07 19:00:00  1.08434  1.083537  63.876652  0.001790     0.001785   \n",
       "2025-03-07 20:00:00  1.08398  1.083580  60.150943  0.001611     0.001750   \n",
       "2025-03-07 21:00:00  1.08425  1.083643  60.888889  0.001474     0.001695   \n",
       "2025-03-07 22:00:00  1.08462  1.083736  58.910506  0.001380     0.001632   \n",
       "2025-03-07 23:00:00  1.08325  1.083690  51.066961  0.001180     0.001542   \n",
       "\n",
       "                     UPPER_BAND  LOWER_BAND  BOLLINGER_PERCENT_B       ATR  \n",
       "2025-03-07 19:00:00    1.088663    1.077196             0.622998  0.003013  \n",
       "2025-03-07 20:00:00    1.088624    1.077728             0.573784  0.002918  \n",
       "2025-03-07 21:00:00    1.088499    1.078403             0.579136  0.002926  \n",
       "2025-03-07 22:00:00    1.088297    1.079194             0.596069  0.002853  \n",
       "2025-03-07 23:00:00    1.087942    1.079972             0.411285  0.002878  "
      ]
     },
     "execution_count": 21,
     "metadata": {},
     "output_type": "execute_result"
    }
   ],
   "source": [
    "dataset.df.tail()"
   ]
  },
  {
   "cell_type": "code",
   "execution_count": 22,
   "metadata": {},
   "outputs": [
    {
     "data": {
      "text/html": [
       "<div>\n",
       "<style scoped>\n",
       "    .dataframe tbody tr th:only-of-type {\n",
       "        vertical-align: middle;\n",
       "    }\n",
       "\n",
       "    .dataframe tbody tr th {\n",
       "        vertical-align: top;\n",
       "    }\n",
       "\n",
       "    .dataframe thead th {\n",
       "        text-align: right;\n",
       "    }\n",
       "</style>\n",
       "<table border=\"1\" class=\"dataframe\">\n",
       "  <thead>\n",
       "    <tr style=\"text-align: right;\">\n",
       "      <th></th>\n",
       "      <th>ENTRY_PRICE</th>\n",
       "      <th>PREDICTED_CLOSE</th>\n",
       "      <th>POSITION</th>\n",
       "      <th>STOP_LOSS</th>\n",
       "      <th>TAKE_PROFIT</th>\n",
       "    </tr>\n",
       "  </thead>\n",
       "  <tbody>\n",
       "  </tbody>\n",
       "</table>\n",
       "</div>"
      ],
      "text/plain": [
       "Empty DataFrame\n",
       "Columns: [ENTRY_PRICE, PREDICTED_CLOSE, POSITION, STOP_LOSS, TAKE_PROFIT]\n",
       "Index: []"
      ]
     },
     "execution_count": 22,
     "metadata": {},
     "output_type": "execute_result"
    }
   ],
   "source": [
    "strategy = TradeStrategy(tk.predict_df, 2)\n",
    "strategy.run(dataset.df)\n",
    "strategy.df"
   ]
  },
  {
   "cell_type": "markdown",
   "metadata": {},
   "source": [
    "# Backtesting du model"
   ]
  },
  {
   "cell_type": "code",
   "execution_count": 10,
   "metadata": {},
   "outputs": [
    {
     "data": {
      "text/html": [
       "<div>\n",
       "<style scoped>\n",
       "    .dataframe tbody tr th:only-of-type {\n",
       "        vertical-align: middle;\n",
       "    }\n",
       "\n",
       "    .dataframe tbody tr th {\n",
       "        vertical-align: top;\n",
       "    }\n",
       "\n",
       "    .dataframe thead th {\n",
       "        text-align: right;\n",
       "    }\n",
       "</style>\n",
       "<table border=\"1\" class=\"dataframe\">\n",
       "  <thead>\n",
       "    <tr style=\"text-align: right;\">\n",
       "      <th></th>\n",
       "      <th>CLOSE</th>\n",
       "      <th>ENTRY_PRICE</th>\n",
       "      <th>PREDICTED_CLOSE</th>\n",
       "      <th>POSITION</th>\n",
       "      <th>STOP_LOSS</th>\n",
       "      <th>TAKE_PROFIT</th>\n",
       "      <th>ATR</th>\n",
       "      <th>HIGH</th>\n",
       "      <th>LOW</th>\n",
       "    </tr>\n",
       "  </thead>\n",
       "  <tbody>\n",
       "    <tr>\n",
       "      <th>2025-03-06 16:00:00</th>\n",
       "      <td>1.08373</td>\n",
       "      <td>1.08263</td>\n",
       "      <td>1.080028</td>\n",
       "      <td>SELL</td>\n",
       "      <td>1.084908</td>\n",
       "      <td>1.07222</td>\n",
       "      <td>0.002711</td>\n",
       "      <td>1.08411</td>\n",
       "      <td>1.08113</td>\n",
       "    </tr>\n",
       "  </tbody>\n",
       "</table>\n",
       "</div>"
      ],
      "text/plain": [
       "                       CLOSE  ENTRY_PRICE  PREDICTED_CLOSE POSITION  \\\n",
       "2025-03-06 16:00:00  1.08373      1.08263         1.080028     SELL   \n",
       "\n",
       "                     STOP_LOSS  TAKE_PROFIT       ATR     HIGH      LOW  \n",
       "2025-03-06 16:00:00   1.084908      1.07222  0.002711  1.08411  1.08113  "
      ]
     },
     "execution_count": 10,
     "metadata": {},
     "output_type": "execute_result"
    }
   ],
   "source": [
    "backtest_data = base_df[['CLOSE']].merge(\n",
    "    strategy.df, left_index=True, right_index=True\n",
    "    ).merge(dataset.df[['ATR']], left_index=True, right_index=True)\n",
    "backtest_data.merge(base_df[['HIGH', 'LOW']], left_index=True, right_index=True, how='inner')"
   ]
  },
  {
   "cell_type": "code",
   "execution_count": 11,
   "metadata": {},
   "outputs": [
    {
     "name": "stdout",
     "output_type": "stream",
     "text": [
      "Métriques de performance :\n",
      "total_trades: 1\n",
      "winning_trades: 0\n",
      "losing_trades: 1\n",
      "win_rate: 0.0\n",
      "net_profit: -0.001100000000000101\n",
      "average_profit: -0.001100000000000101\n",
      "sharpe_ratio: nan\n"
     ]
    }
   ],
   "source": [
    "backtester = Backtester(backtest_data)\n",
    "backtester.simulate_trades()\n",
    "performance_metrics = backtester.calculate_performance_metrics()\n",
    "\n",
    "print(\"Métriques de performance :\")\n",
    "for key, value in performance_metrics.items():\n",
    "    print(f\"{key}: {value}\")"
   ]
  },
  {
   "cell_type": "code",
   "execution_count": 12,
   "metadata": {},
   "outputs": [
    {
     "name": "stdout",
     "output_type": "stream",
     "text": [
      "Meilleurs multiplicateurs : (1.0, 1.5)\n",
      "Métriques associées : {'total_trades': 1, 'winning_trades': 0, 'losing_trades': 1, 'win_rate': 0.0, 'net_profit': -0.00010904900021024844, 'average_profit': -0.00010904900021024844, 'sharpe_ratio': nan}\n"
     ]
    }
   ],
   "source": [
    "# Test de différents multiplicateurs\n",
    "multipliers = [(1.0, 1.5), (1.5, 2.0), (2.0, 2.5)]\n",
    "\n",
    "best_metrics = None\n",
    "best_multipliers = None\n",
    "\n",
    "for stop_loss_multiplier, take_profit_multiplier in multipliers:\n",
    "    # Appliquez les multiplicateurs et recalculez les stop-loss et take-profit\n",
    "    backtest_data['STOP_LOSS'] = backtest_data.apply(\n",
    "        lambda row: row[\"PREDICTED_CLOSE\"] + (stop_loss_multiplier * row['ATR'])\n",
    "            if row[\"POSITION\"] == \"SELL\"\n",
    "            else row[\"PREDICTED_CLOSE\"] - (stop_loss_multiplier * row['ATR']),\n",
    "        axis=1\n",
    "    )\n",
    "    backtest_data['TAKE_PROFIT'] = backtest_data.apply(\n",
    "        lambda row: row[\"PREDICTED_CLOSE\"] - (take_profit_multiplier * row['ATR'])\n",
    "            if row[\"POSITION\"] == \"SELL\"\n",
    "            else row[\"PREDICTED_CLOSE\"] + (take_profit_multiplier * row['ATR']),\n",
    "        axis=1\n",
    "    )\n",
    "\n",
    "    # Simule les trades et calcule les métriques\n",
    "    backtester = Backtester(backtest_data)\n",
    "    backtester.simulate_trades()\n",
    "    metrics = backtester.calculate_performance_metrics()\n",
    "\n",
    "    # Compare les métriques pour trouver les meilleurs paramètres\n",
    "    if best_metrics is None or metrics['net_profit'] > best_metrics['net_profit']:\n",
    "        best_metrics = metrics\n",
    "        best_multipliers = (stop_loss_multiplier, take_profit_multiplier)\n",
    "\n",
    "print(\"Meilleurs multiplicateurs :\", best_multipliers)\n",
    "print(\"Métriques associées :\", best_metrics)"
   ]
  }
 ],
 "metadata": {
  "kernelspec": {
   "display_name": ".venv",
   "language": "python",
   "name": "python3"
  },
  "language_info": {
   "codemirror_mode": {
    "name": "ipython",
    "version": 3
   },
   "file_extension": ".py",
   "mimetype": "text/x-python",
   "name": "python",
   "nbconvert_exporter": "python",
   "pygments_lexer": "ipython3",
   "version": "3.10.0"
  }
 },
 "nbformat": 4,
 "nbformat_minor": 2
}
